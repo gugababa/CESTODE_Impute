{
 "cells": [
  {
   "cell_type": "code",
   "execution_count": 1,
   "id": "f0d34299-c04b-41ed-9ba0-2c8de8f52e66",
   "metadata": {
    "colab": {
     "base_uri": "https://localhost:8080/"
    },
    "executionInfo": {
     "elapsed": 14566,
     "status": "ok",
     "timestamp": 1746115909239,
     "user": {
      "displayName": "Anshuman Swain",
      "userId": "11426383390517811390"
     },
     "user_tz": 240
    },
    "id": "f0d34299-c04b-41ed-9ba0-2c8de8f52e66",
    "outputId": "412f004b-fcd6-4340-b9d8-55306173ebf9",
    "tags": []
   },
   "outputs": [],
   "source": [
    "import numpy as np\n",
    "import os\n",
    "import matplotlib.pyplot as plt\n",
    "from ode_model import *\n",
    "from utils import *\n",
    "import ode_model\n",
    "import utils\n",
    "import importlib\n",
    "import run_model\n",
    "from run_model import *\n",
    "from sklearn.model_selection import train_test_split\n",
    "from torch.utils.data import DataLoader, TensorDataset\n",
    "import json\n",
    "import pickle\n",
    "from pygrinder import mcar"
   ]
  },
  {
   "cell_type": "code",
   "execution_count": 2,
   "id": "a9e73553",
   "metadata": {
    "colab": {
     "base_uri": "https://localhost:8080/"
    },
    "executionInfo": {
     "elapsed": 19,
     "status": "ok",
     "timestamp": 1746115909259,
     "user": {
      "displayName": "Anshuman Swain",
      "userId": "11426383390517811390"
     },
     "user_tz": 240
    },
    "id": "a9e73553",
    "outputId": "05db5d46-fcfa-4bfd-c34f-3c4e75323b1e"
   },
   "outputs": [
    {
     "data": {
      "text/plain": [
       "<module 'utils' from 'c:\\\\Users\\\\camipm\\\\Documents\\\\aswain\\\\CESTODE_Impute\\\\utils.py'>"
      ]
     },
     "execution_count": 2,
     "metadata": {},
     "output_type": "execute_result"
    }
   ],
   "source": [
    "importlib.reload(run_model)\n",
    "importlib.reload(ode_model)\n",
    "importlib.reload(utils)"
   ]
  },
  {
   "cell_type": "code",
   "execution_count": 3,
   "id": "b5e5469b",
   "metadata": {
    "executionInfo": {
     "elapsed": 1,
     "status": "ok",
     "timestamp": 1746115909261,
     "user": {
      "displayName": "Anshuman Swain",
      "userId": "11426383390517811390"
     },
     "user_tz": 240
    },
    "id": "b5e5469b"
   },
   "outputs": [],
   "source": [
    "np.random.seed(42)"
   ]
  },
  {
   "cell_type": "markdown",
   "id": "a81db262",
   "metadata": {
    "id": "a81db262"
   },
   "source": [
    "## Load and prepare the data"
   ]
  },
  {
   "cell_type": "code",
   "execution_count": 4,
   "id": "5d6c837c",
   "metadata": {
    "executionInfo": {
     "elapsed": 21030,
     "status": "ok",
     "timestamp": 1746115930406,
     "user": {
      "displayName": "Anshuman Swain",
      "userId": "11426383390517811390"
     },
     "user_tz": 240
    },
    "id": "5d6c837c"
   },
   "outputs": [],
   "source": [
    "data = np.load(r\"C:\\Users\\camipm\\Documents\\aswain\\CESTODE_Imputation\\ZSpecData_nopkl.npz\", allow_pickle = True)"
   ]
  },
  {
   "cell_type": "code",
   "execution_count": 5,
   "id": "1e5735ba-3728-434e-b1ff-4595c6e4507d",
   "metadata": {
    "colab": {
     "base_uri": "https://localhost:8080/"
    },
    "executionInfo": {
     "elapsed": 521,
     "status": "ok",
     "timestamp": 1746115930926,
     "user": {
      "displayName": "Anshuman Swain",
      "userId": "11426383390517811390"
     },
     "user_tz": 240
    },
    "id": "1e5735ba-3728-434e-b1ff-4595c6e4507d",
    "outputId": "2fa5938f-8071-4a58-c2b2-faab10c3f4b7",
    "tags": []
   },
   "outputs": [
    {
     "name": "stdout",
     "output_type": "stream",
     "text": [
      "(663397, 56, 3)\n",
      "8492.899\n"
     ]
    }
   ],
   "source": [
    "zspec = data['trainData']\n",
    "nonzeroInds = data['train_nonZeroInds']\n",
    "\n",
    "zspec = zspec[nonzeroInds]\n",
    "nonNanInds = data['train_nonNanInds']\n",
    "zpsec = zspec[nonNanInds]\n",
    "print(zspec.shape)\n",
    "print(np.max(zspec))"
   ]
  },
  {
   "cell_type": "code",
   "execution_count": 6,
   "id": "360c85d9",
   "metadata": {
    "colab": {
     "base_uri": "https://localhost:8080/"
    },
    "executionInfo": {
     "elapsed": 21,
     "status": "ok",
     "timestamp": 1746115930957,
     "user": {
      "displayName": "Anshuman Swain",
      "userId": "11426383390517811390"
     },
     "user_tz": 240
    },
    "id": "360c85d9",
    "outputId": "5c99b406-a0ff-4c78-d987-dca5fa059548"
   },
   "outputs": [
    {
     "name": "stdout",
     "output_type": "stream",
     "text": [
      "(663397, 3)\n"
     ]
    }
   ],
   "source": [
    "B1 = np.array([28,50,70])\n",
    "B1 = np.tile(B1, [zspec.shape[0], 1])\n",
    "print(B1.shape)"
   ]
  },
  {
   "cell_type": "code",
   "execution_count": 7,
   "id": "9d2811dd",
   "metadata": {
    "colab": {
     "base_uri": "https://localhost:8080/"
    },
    "executionInfo": {
     "elapsed": 496,
     "status": "ok",
     "timestamp": 1746115931454,
     "user": {
      "displayName": "Anshuman Swain",
      "userId": "11426383390517811390"
     },
     "user_tz": 240
    },
    "id": "9d2811dd",
    "outputId": "09c50030-6783-4b56-c879-ca4705689bc2"
   },
   "outputs": [
    {
     "name": "stdout",
     "output_type": "stream",
     "text": [
      "(1990191, 56)\n",
      "(1990191, 1)\n"
     ]
    }
   ],
   "source": [
    "zspec = np.swapaxes(zspec,1,-1)\n",
    "zspec = zspec.reshape(-1,56)\n",
    "print(zspec.shape)\n",
    "\n",
    "B1 = B1.reshape(-1,1)\n",
    "print(B1.shape)"
   ]
  },
  {
   "cell_type": "code",
   "execution_count": 8,
   "id": "420ac036",
   "metadata": {
    "colab": {
     "base_uri": "https://localhost:8080/"
    },
    "executionInfo": {
     "elapsed": 3,
     "status": "ok",
     "timestamp": 1746115931454,
     "user": {
      "displayName": "Anshuman Swain",
      "userId": "11426383390517811390"
     },
     "user_tz": 240
    },
    "id": "420ac036",
    "outputId": "7fb1bb75-f038-4ceb-db63-fa53b751dcaf"
   },
   "outputs": [
    {
     "name": "stdout",
     "output_type": "stream",
     "text": [
      "(1990191, 1)\n"
     ]
    }
   ],
   "source": [
    "satDur = 3\n",
    "satDur = np.repeat(3, zspec.shape[0])\n",
    "satDur = satDur.reshape(-1,1)\n",
    "print(satDur.shape)"
   ]
  },
  {
   "cell_type": "code",
   "execution_count": 9,
   "id": "631329dd-d516-40e2-acb5-0f5ac1c09a15",
   "metadata": {
    "colab": {
     "base_uri": "https://localhost:8080/"
    },
    "executionInfo": {
     "elapsed": 508,
     "status": "ok",
     "timestamp": 1746115931961,
     "user": {
      "displayName": "Anshuman Swain",
      "userId": "11426383390517811390"
     },
     "user_tz": 240
    },
    "id": "631329dd-d516-40e2-acb5-0f5ac1c09a15",
    "outputId": "cfd5e6f1-549a-41e4-b0fe-9c2d611c1e73",
    "tags": []
   },
   "outputs": [
    {
     "name": "stdout",
     "output_type": "stream",
     "text": [
      "[-300.  -100.   -50.   -20.   -12.    -9.    -7.2   -6.2   -5.5   -4.7\n",
      "   -4.    -3.3   -2.7   -2.    -1.7   -1.5   -1.1   -0.9   -0.6   -0.4\n",
      "    0.     0.4    0.6    0.9    1.1    1.2    1.4    1.5    1.7    1.8\n",
      "    2.     2.1    2.3    2.4    2.6    2.7    2.9    3.     3.2    3.3\n",
      "    3.5    3.6    3.8    3.9    4.1    4.2    4.4    4.7    5.2    6.2\n",
      "    8.    12.    20.    50.   100.   300. ]\n",
      "56\n"
     ]
    }
   ],
   "source": [
    "offsets = np.loadtxt('CESTppmlist_7T.txt')\n",
    "print(offsets)\n",
    "print(len(offsets))"
   ]
  },
  {
   "cell_type": "code",
   "execution_count": 10,
   "id": "7a8816c9",
   "metadata": {
    "executionInfo": {
     "elapsed": 1,
     "status": "ok",
     "timestamp": 1746115931962,
     "user": {
      "displayName": "Anshuman Swain",
      "userId": "11426383390517811390"
     },
     "user_tz": 240
    },
    "id": "7a8816c9"
   },
   "outputs": [],
   "source": [
    "trainIndsSelect = np.random.randint(low = 0, high = zspec.shape[0], size = int(1e6))\n",
    "zspec = zspec[trainIndsSelect,:]\n",
    "B1 = B1[trainIndsSelect,:]\n",
    "satDur = satDur[trainIndsSelect,:]"
   ]
  },
  {
   "cell_type": "code",
   "execution_count": 11,
   "id": "1eb9c326",
   "metadata": {
    "colab": {
     "base_uri": "https://localhost:8080/"
    },
    "executionInfo": {
     "elapsed": 4,
     "status": "ok",
     "timestamp": 1746115931967,
     "user": {
      "displayName": "Anshuman Swain",
      "userId": "11426383390517811390"
     },
     "user_tz": 240
    },
    "id": "1eb9c326",
    "outputId": "7bc99597-9414-4006-bfae-a5fcd3bf6e08"
   },
   "outputs": [
    {
     "name": "stdout",
     "output_type": "stream",
     "text": [
      "[[1.        ]\n",
      " [0.52380952]\n",
      " [0.52380952]\n",
      " ...\n",
      " [0.52380952]\n",
      " [1.        ]\n",
      " [0.52380952]]\n"
     ]
    }
   ],
   "source": [
    "# normalize B1\n",
    "B1 = (B1 - np.min(B1)) / (np.max(B1) - np.min(B1))\n",
    "print(B1)"
   ]
  },
  {
   "cell_type": "markdown",
   "id": "13a604eb",
   "metadata": {
    "id": "13a604eb"
   },
   "source": [
    "### Create training and validation sets"
   ]
  },
  {
   "cell_type": "code",
   "execution_count": 12,
   "id": "554f5f50-0887-4245-8b18-5c7ffd85a5b4",
   "metadata": {
    "executionInfo": {
     "elapsed": 507,
     "status": "ok",
     "timestamp": 1746115932473,
     "user": {
      "displayName": "Anshuman Swain",
      "userId": "11426383390517811390"
     },
     "user_tz": 240
    },
    "id": "554f5f50-0887-4245-8b18-5c7ffd85a5b4",
    "tags": []
   },
   "outputs": [],
   "source": [
    "# split data in training and validation sets\n",
    "trainData, valData, trainInds, valInds = train_test_split(zspec,np.arange(len(zspec)),test_size = 0.3, random_state = 42)\n",
    "\n",
    "train_B1 = B1[trainInds,:]\n",
    "val_B1 = B1[valInds,:]\n",
    "\n",
    "train_sat = satDur[trainInds,:]\n",
    "val_sat = satDur[valInds,:]"
   ]
  },
  {
   "cell_type": "code",
   "execution_count": 13,
   "id": "e0270653",
   "metadata": {
    "executionInfo": {
     "elapsed": 2937,
     "status": "ok",
     "timestamp": 1746115935411,
     "user": {
      "displayName": "Anshuman Swain",
      "userId": "11426383390517811390"
     },
     "user_tz": 240
    },
    "id": "e0270653"
   },
   "outputs": [],
   "source": [
    "X_train_ori = trainData\n",
    "X_val_ori = valData\n",
    "\n",
    "X_train = mcar(X_train_ori, 0.3)\n",
    "X_val = mcar(X_val_ori, 0.2)\n",
    "\n",
    "X_train_mask = ~np.isnan(X_train) + 0\n",
    "X_val_mask = ~np.isnan(X_val) + 0"
   ]
  },
  {
   "cell_type": "code",
   "execution_count": 14,
   "id": "1dab03ba",
   "metadata": {
    "colab": {
     "base_uri": "https://localhost:8080/"
    },
    "executionInfo": {
     "elapsed": 4,
     "status": "ok",
     "timestamp": 1746118749397,
     "user": {
      "displayName": "Anshuman Swain",
      "userId": "11426383390517811390"
     },
     "user_tz": 240
    },
    "id": "1dab03ba",
    "outputId": "1c80f669-37a7-4946-9398-9dbaec33525f"
   },
   "outputs": [
    {
     "name": "stdout",
     "output_type": "stream",
     "text": [
      "[       nan 0.98891604 0.9305286  0.7677228  0.6755667  0.61894053\n",
      " 0.5813596  0.5517044         nan        nan 0.47132957 0.4499301\n",
      "        nan 0.43859464        nan 0.4211511  0.3830218         nan\n",
      "        nan        nan 0.06205162        nan 0.22002673        nan\n",
      "        nan 0.3791248         nan 0.42279002 0.43938956 0.44330698\n",
      "        nan        nan 0.48165098 0.48793507 0.50022674 0.50547206\n",
      " 0.5182979  0.5243451         nan 0.5322554         nan 0.54343516\n",
      " 0.55127454        nan        nan        nan 0.57951796        nan\n",
      "        nan 0.643197   0.6761007  0.72678006 0.8024126         nan\n",
      " 0.979363   0.9824335 ]\n",
      "[0 1 1 1 1 1 1 1 0 0 1 1 0 1 0 1 1 0 0 0 1 0 1 0 0 1 0 1 1 1 0 0 1 1 1 1 1\n",
      " 1 0 1 0 1 1 0 0 0 1 0 0 1 1 1 1 0 1 1]\n"
     ]
    }
   ],
   "source": [
    "print(X_train[0,:])\n",
    "print(X_train_mask[0,:])"
   ]
  },
  {
   "cell_type": "code",
   "execution_count": 15,
   "id": "567b704d",
   "metadata": {
    "executionInfo": {
     "elapsed": 1,
     "status": "ok",
     "timestamp": 1746115935428,
     "user": {
      "displayName": "Anshuman Swain",
      "userId": "11426383390517811390"
     },
     "user_tz": 240
    },
    "id": "567b704d"
   },
   "outputs": [],
   "source": [
    "# offsets_train = np.tile(offsets, [X_train.shape[0], 1])\n",
    "# offsets_val = np.tile(offsets, [X_val.shape[0], 1])\n",
    "\n",
    "offsets_scaled = (offsets - np.min(offsets))/(np.max(offsets) - np.min(offsets))\n",
    "offsets_train = np.tile(offsets_scaled, [X_train.shape[0],1])\n",
    "offsets_val = np.tile(offsets_scaled, [X_val.shape[0],1])"
   ]
  },
  {
   "cell_type": "code",
   "execution_count": 16,
   "id": "58ef595a-d678-469e-8a10-2bacf929a4f0",
   "metadata": {
    "executionInfo": {
     "elapsed": 4,
     "status": "ok",
     "timestamp": 1746118794969,
     "user": {
      "displayName": "Anshuman Swain",
      "userId": "11426383390517811390"
     },
     "user_tz": 240
    },
    "id": "58ef595a-d678-469e-8a10-2bacf929a4f0",
    "tags": []
   },
   "outputs": [],
   "source": [
    "trainDataset = MyCustomDataset(X_train, X_train_mask, train_B1, train_sat, X_train_ori, offsets_train)\n",
    "valDataset = MyCustomDataset(X_val, X_val_mask, val_B1, val_sat, X_val_ori, offsets_val)\n",
    "\n",
    "trainLoader = DataLoader(trainDataset, batch_size = 256, shuffle = True)\n",
    "valLoader = DataLoader(valDataset, batch_size = 1024, shuffle = False)\n",
    "\n",
    "# rainLoader = DataLoader(trainDataset, batch_size = 64, shuffle = True)\n",
    "# valLoader = DataLoader(valDataset, batch_size = 1024, shuffle = False)"
   ]
  },
  {
   "cell_type": "code",
   "execution_count": 17,
   "id": "d253165a-3b3c-42dd-8727-ebd434e16e43",
   "metadata": {
    "colab": {
     "base_uri": "https://localhost:8080/"
    },
    "executionInfo": {
     "elapsed": 358,
     "status": "ok",
     "timestamp": 1746118796713,
     "user": {
      "displayName": "Anshuman Swain",
      "userId": "11426383390517811390"
     },
     "user_tz": 240
    },
    "id": "d253165a-3b3c-42dd-8727-ebd434e16e43",
    "outputId": "8ba23415-78ad-4415-e53a-e909329dd3cc",
    "tags": []
   },
   "outputs": [
    {
     "name": "stdout",
     "output_type": "stream",
     "text": [
      "Spectra batch shape: torch.Size([256, 56])\n",
      "B1 batch shape: torch.Size([256, 1])\n",
      "Sat. duration batch shape: torch.Size([256, 1])\n",
      "Mask batch shape: torch.Size([256, 56])\n",
      "Original spectra batch shape: torch.Size([256, 56])\n",
      "Train offsets batch shape: torch.Size([256, 56])\n"
     ]
    }
   ],
   "source": [
    "# train_offsets, train_spec, train_B1_batch, train_sat_batch, mask_batch, train_spec_ori = next(iter(trainLoader))\n",
    "train_spec, train_B1_batch, train_sat_batch, mask_batch, train_spec_ori, train_offsets = next(iter(trainLoader))\n",
    "# print(f\"Offsets batch shape: {train_offsets.size()}\")\n",
    "print(f\"Spectra batch shape: {train_spec.size()}\")\n",
    "print(f\"B1 batch shape: {train_B1_batch.size()}\")\n",
    "print(f\"Sat. duration batch shape: {train_sat_batch.size()}\")\n",
    "print(f\"Mask batch shape: {mask_batch.size()}\")\n",
    "print(f\"Original spectra batch shape: {train_spec_ori.size()}\")\n",
    "print(f\"Train offsets batch shape: {train_offsets.size()}\")"
   ]
  },
  {
   "cell_type": "markdown",
   "id": "81966937",
   "metadata": {
    "id": "81966937"
   },
   "source": [
    "## Train the model"
   ]
  },
  {
   "cell_type": "code",
   "execution_count": 18,
   "id": "554ae4c1",
   "metadata": {
    "executionInfo": {
     "elapsed": 6,
     "status": "ok",
     "timestamp": 1746115958677,
     "user": {
      "displayName": "Anshuman Swain",
      "userId": "11426383390517811390"
     },
     "user_tz": 240
    },
    "id": "554ae4c1"
   },
   "outputs": [],
   "source": [
    "model_file_path = \"Models\""
   ]
  },
  {
   "cell_type": "code",
   "execution_count": 19,
   "id": "8688d4e8",
   "metadata": {
    "executionInfo": {
     "elapsed": 6,
     "status": "ok",
     "timestamp": 1746118773411,
     "user": {
      "displayName": "Anshuman Swain",
      "userId": "11426383390517811390"
     },
     "user_tz": 240
    },
    "id": "8688d4e8"
   },
   "outputs": [],
   "source": [
    "params = {'input_dim':1,\n",
    "          'seq_len': X_train_ori.shape[-1],\n",
    "          'feature_dim': 8,\n",
    "          'model_dim': 128,\n",
    "          'inner_dim': 64,\n",
    "          'ode_hidden_dim': 64,\n",
    "          'state_dim': 3,\n",
    "          'param_dim': 3,\n",
    "          'latent_dim': 32,\n",
    "          'n_heads': 2,\n",
    "          'diag_attn_mask': True,\n",
    "          'dropout': 0.1}\n",
    "\n",
    "blochode = AttnODE(**params)"
   ]
  },
  {
   "cell_type": "code",
   "execution_count": 20,
   "id": "ae-qHhBSgTxc",
   "metadata": {
    "executionInfo": {
     "elapsed": 1,
     "status": "ok",
     "timestamp": 1746118775554,
     "user": {
      "displayName": "Anshuman Swain",
      "userId": "11426383390517811390"
     },
     "user_tz": 240
    },
    "id": "ae-qHhBSgTxc"
   },
   "outputs": [],
   "source": [
    "# indicate if training from scratch or learned weights\n",
    "train_from_scratch = 1\n",
    "model_name = 'AttnODE'"
   ]
  },
  {
   "cell_type": "code",
   "execution_count": 21,
   "id": "d5f8a8f0",
   "metadata": {
    "executionInfo": {
     "elapsed": 7,
     "status": "ok",
     "timestamp": 1746118776856,
     "user": {
      "displayName": "Anshuman Swain",
      "userId": "11426383390517811390"
     },
     "user_tz": 240
    },
    "id": "d5f8a8f0"
   },
   "outputs": [],
   "source": [
    "def init_weights(m):\n",
    "    if isinstance(m, nn.Linear):\n",
    "        torch.nn.init.kaiming_normal_(m.weight)\n",
    "\n",
    "if train_from_scratch:\n",
    "    blochode.apply(init_weights)\n",
    "else:\n",
    "    chkpt_dir = 'Models/2025-05-03_03-29-34'\n",
    "    chkpt_dict = torch.load(os.path.join(chkpt_dir,model_name + '_current.pth'), map_location = 'cuda')\n",
    "    \n",
    "    blochode.load_state_dict(chkpt_dict['model_state_dict'])\n",
    "    \n",
    "    optimizer = torch.optim.AdamW(blochode.parameters())\n",
    "    optimizer.load_state_dict(chkpt_dict['optimizer_state_dict'])\n",
    "    T_0 = int(0.02 * len(trainLoader.dataset))\n",
    "    T_mult = 2\n",
    "    scheduler = torch.optim.lr_scheduler.CosineAnnealingWarmRestarts(optimizer, T_0 = T_0, T_mult = T_mult, eta_min = 1e-6)\n",
    "    scheduler.load_state_dict(chkpt_dict['scheduler_state_dict'])"
   ]
  },
  {
   "cell_type": "code",
   "execution_count": 22,
   "id": "1cffa169",
   "metadata": {
    "colab": {
     "base_uri": "https://localhost:8080/",
     "height": 408
    },
    "executionInfo": {
     "elapsed": 543,
     "status": "error",
     "timestamp": 1746118800984,
     "user": {
      "displayName": "Anshuman Swain",
      "userId": "11426383390517811390"
     },
     "user_tz": 240
    },
    "id": "1cffa169",
    "outputId": "cae3d439-efd2-4bc1-89b3-97e579d6b6f7"
   },
   "outputs": [
    {
     "name": "stdout",
     "output_type": "stream",
     "text": [
      "Using the device: cuda\n",
      "EPOCH 1:\n"
     ]
    },
    {
     "name": "stderr",
     "output_type": "stream",
     "text": [
      "100%|██████████| 2735/2735 [08:43<00:00,  5.22batch/s]\n"
     ]
    },
    {
     "name": "stdout",
     "output_type": "stream",
     "text": [
      "Total loss train: 0.07571475362573352, Recon loss train: 0.03256499388601099, Imputed loss train: 0.04314975992935045\n",
      "Total loss val: 0.02991429594953855, Recon loss val: 0.011017086894512177, Imputed loss val: 0.018897209036052225\n",
      "EPOCH 2:\n"
     ]
    },
    {
     "name": "stderr",
     "output_type": "stream",
     "text": [
      "100%|██████████| 2735/2735 [08:08<00:00,  5.59batch/s]\n"
     ]
    },
    {
     "name": "stdout",
     "output_type": "stream",
     "text": [
      "Total loss train: 0.047160363729681284, Recon loss train: 0.016752718326066222, Imputed loss train: 0.030407645256689618\n",
      "Total loss val: 0.0299591581428051, Recon loss val: 0.011798574347595374, Imputed loss val: 0.018160583871603013\n",
      "EPOCH 3:\n"
     ]
    },
    {
     "name": "stderr",
     "output_type": "stream",
     "text": [
      "100%|██████████| 2735/2735 [08:05<00:00,  5.64batch/s]\n"
     ]
    },
    {
     "name": "stdout",
     "output_type": "stream",
     "text": [
      "Total loss train: 0.042695515743408886, Recon loss train: 0.014562610729421888, Imputed loss train: 0.0281329050974335\n",
      "Total loss val: 0.024610280968348185, Recon loss val: 0.008946994756112495, Imputed loss val: 0.015663286175727844\n",
      "EPOCH 4:\n"
     ]
    },
    {
     "name": "stderr",
     "output_type": "stream",
     "text": [
      "100%|██████████| 2735/2735 [07:33<00:00,  6.03batch/s]\n"
     ]
    },
    {
     "name": "stdout",
     "output_type": "stream",
     "text": [
      "Total loss train: 0.040448233498420035, Recon loss train: 0.01306610237892185, Imputed loss train: 0.027382131000288894\n",
      "Total loss val: 0.01906360869407654, Recon loss val: 0.004312740672330061, Imputed loss val: 0.014750867975652218\n",
      "EPOCH 5:\n"
     ]
    },
    {
     "name": "stderr",
     "output_type": "stream",
     "text": [
      "100%|██████████| 2735/2735 [07:26<00:00,  6.12batch/s]\n"
     ]
    },
    {
     "name": "stdout",
     "output_type": "stream",
     "text": [
      "Total loss train: 0.03603647650556905, Recon loss train: 0.009585038913169077, Imputed loss train: 0.0264514374767031\n",
      "Total loss val: 0.024461233200629554, Recon loss val: 0.00905448277597626, Imputed loss val: 0.015406750529507796\n",
      "EPOCH 6:\n"
     ]
    },
    {
     "name": "stderr",
     "output_type": "stream",
     "text": [
      "100%|██████████| 2735/2735 [07:21<00:00,  6.20batch/s]\n"
     ]
    },
    {
     "name": "stdout",
     "output_type": "stream",
     "text": [
      "Total loss train: 0.03761558690079621, Recon loss train: 0.011548852961446558, Imputed loss train: 0.026066733928791115\n",
      "Total loss val: 0.0175828005767862, Recon loss val: 0.0034357780891408523, Imputed loss val: 0.014147022419273854\n",
      "EPOCH 7:\n"
     ]
    },
    {
     "name": "stderr",
     "output_type": "stream",
     "text": [
      "100%|██████████| 2735/2735 [07:27<00:00,  6.11batch/s]\n"
     ]
    },
    {
     "name": "stdout",
     "output_type": "stream",
     "text": [
      "Total loss train: 0.03625310562201909, Recon loss train: 0.010489508904133525, Imputed loss train: 0.025763596736320428\n",
      "Total loss val: 0.019676016275286673, Recon loss val: 0.0053649968702097735, Imputed loss val: 0.014311019432048003\n",
      "EPOCH 8:\n"
     ]
    },
    {
     "name": "stderr",
     "output_type": "stream",
     "text": [
      "100%|██████████| 2735/2735 [07:29<00:00,  6.09batch/s]\n"
     ]
    },
    {
     "name": "stdout",
     "output_type": "stream",
     "text": [
      "Total loss train: 0.035151136085646496, Recon loss train: 0.00954524407627327, Imputed loss train: 0.02560589184837682\n",
      "Total loss val: 0.021438817671736082, Recon loss val: 0.00699672636449337, Imputed loss val: 0.014442091300884882\n",
      "EPOCH 9:\n"
     ]
    },
    {
     "name": "stderr",
     "output_type": "stream",
     "text": [
      "100%|██████████| 2735/2735 [07:24<00:00,  6.15batch/s]\n"
     ]
    },
    {
     "name": "stdout",
     "output_type": "stream",
     "text": [
      "Total loss train: 0.035572137141994066, Recon loss train: 0.009977142082623073, Imputed loss train: 0.025594995196291378\n",
      "Total loss val: 0.019960209626555443, Recon loss val: 0.004975241631443302, Imputed loss val: 0.014984967988729477\n",
      "EPOCH 10:\n"
     ]
    },
    {
     "name": "stderr",
     "output_type": "stream",
     "text": [
      "100%|██████████| 2735/2735 [07:25<00:00,  6.14batch/s]\n"
     ]
    },
    {
     "name": "stdout",
     "output_type": "stream",
     "text": [
      "Total loss train: 0.03402923910123961, Recon loss train: 0.008850494935257094, Imputed loss train: 0.02517874440099512\n",
      "Total loss val: 0.01746100577354431, Recon loss val: 0.00336316028897961, Imputed loss val: 0.014097845494051775\n",
      "EPOCH 11:\n"
     ]
    },
    {
     "name": "stderr",
     "output_type": "stream",
     "text": [
      "100%|██████████| 2735/2735 [07:27<00:00,  6.11batch/s]\n"
     ]
    },
    {
     "name": "stdout",
     "output_type": "stream",
     "text": [
      "Total loss train: 0.0338069086933136, Recon loss train: 0.008663266776970454, Imputed loss train: 0.02514364188947848\n",
      "Total loss val: 0.02016048388471206, Recon loss val: 0.005664350566541155, Imputed loss val: 0.014496133338809013\n",
      "EPOCH 12:\n"
     ]
    },
    {
     "name": "stderr",
     "output_type": "stream",
     "text": [
      "100%|██████████| 2735/2735 [07:23<00:00,  6.16batch/s]\n"
     ]
    },
    {
     "name": "stdout",
     "output_type": "stream",
     "text": [
      "Total loss train: 0.03536687140669142, Recon loss train: 0.010425531851393836, Imputed loss train: 0.024941339440005168\n",
      "Total loss val: 0.019529049967428047, Recon loss val: 0.0043913471844047305, Imputed loss val: 0.015137702822784583\n",
      "EPOCH 13:\n"
     ]
    },
    {
     "name": "stderr",
     "output_type": "stream",
     "text": [
      "100%|██████████| 2735/2735 [07:24<00:00,  6.16batch/s]\n"
     ]
    },
    {
     "name": "stdout",
     "output_type": "stream",
     "text": [
      "Total loss train: 0.03315293971180916, Recon loss train: 0.008290769242580449, Imputed loss train: 0.024862170607447623\n",
      "Total loss val: 0.018699001517295838, Recon loss val: 0.003946919404516617, Imputed loss val: 0.014752082098424435\n",
      "EPOCH 14:\n"
     ]
    },
    {
     "name": "stderr",
     "output_type": "stream",
     "text": [
      "100%|██████████| 2735/2735 [07:17<00:00,  6.25batch/s]\n"
     ]
    },
    {
     "name": "stdout",
     "output_type": "stream",
     "text": [
      "Total loss train: 0.032888639487709315, Recon loss train: 0.008074999194613524, Imputed loss train: 0.024813640188149043\n",
      "Total loss val: 0.018348713868260383, Recon loss val: 0.002838616488476594, Imputed loss val: 0.015510097395678362\n",
      "EPOCH 15:\n"
     ]
    },
    {
     "name": "stderr",
     "output_type": "stream",
     "text": [
      "100%|██████████| 2735/2735 [07:15<00:00,  6.28batch/s]\n"
     ]
    },
    {
     "name": "stdout",
     "output_type": "stream",
     "text": [
      "Total loss train: 0.03234849293887615, Recon loss train: 0.007660908988799368, Imputed loss train: 0.02468758413740567\n",
      "Total loss val: 0.0181433392282327, Recon loss val: 0.003015650674154361, Imputed loss val: 0.015127688581148784\n",
      "EPOCH 16:\n"
     ]
    },
    {
     "name": "stderr",
     "output_type": "stream",
     "text": [
      "100%|██████████| 2735/2735 [07:22<00:00,  6.18batch/s]\n"
     ]
    },
    {
     "name": "stdout",
     "output_type": "stream",
     "text": [
      "Total loss train: 0.03253191768620695, Recon loss train: 0.0077534873624571735, Imputed loss train: 0.024778430270382335\n",
      "Total loss val: 0.01763237669269244, Recon loss val: 0.002739199679195881, Imputed loss val: 0.014893177003959814\n",
      "EPOCH 17:\n"
     ]
    },
    {
     "name": "stderr",
     "output_type": "stream",
     "text": [
      "100%|██████████| 2735/2735 [07:27<00:00,  6.11batch/s]\n"
     ]
    },
    {
     "name": "stdout",
     "output_type": "stream",
     "text": [
      "Total loss train: 0.03292614650283541, Recon loss train: 0.008279094353062766, Imputed loss train: 0.024647052034309933\n",
      "Total loss val: 0.018011038227876027, Recon loss val: 0.0034976699728518725, Imputed loss val: 0.014513368225594361\n",
      "EPOCH 18:\n"
     ]
    },
    {
     "name": "stderr",
     "output_type": "stream",
     "text": [
      "100%|██████████| 2735/2735 [07:23<00:00,  6.17batch/s]\n"
     ]
    },
    {
     "name": "stdout",
     "output_type": "stream",
     "text": [
      "Total loss train: 0.03249138881589685, Recon loss train: 0.007865551750532218, Imputed loss train: 0.024625836909370764\n",
      "Total loss val: 0.01932105735431115, Recon loss val: 0.004452406852245331, Imputed loss val: 0.014868650567233563\n",
      "EPOCH 19:\n"
     ]
    },
    {
     "name": "stderr",
     "output_type": "stream",
     "text": [
      "100%|██████████| 2735/2735 [07:25<00:00,  6.14batch/s]\n"
     ]
    },
    {
     "name": "stdout",
     "output_type": "stream",
     "text": [
      "Total loss train: 0.03344975446913923, Recon loss train: 0.008843611614597695, Imputed loss train: 0.024606142769285612\n",
      "Total loss val: 0.018720771321455637, Recon loss val: 0.003655620920335253, Imputed loss val: 0.01506515037804842\n",
      "EPOCH 20:\n"
     ]
    },
    {
     "name": "stderr",
     "output_type": "stream",
     "text": [
      "100%|██████████| 2735/2735 [07:27<00:00,  6.11batch/s]\n"
     ]
    },
    {
     "name": "stdout",
     "output_type": "stream",
     "text": [
      "Total loss train: 0.030961884652120727, Recon loss train: 0.006508187237403222, Imputed loss train: 0.02445369730719498\n",
      "Total loss val: 0.017861275199552377, Recon loss val: 0.003512124004562696, Imputed loss val: 0.014349151214063167\n",
      "EPOCH 21:\n"
     ]
    },
    {
     "name": "stderr",
     "output_type": "stream",
     "text": [
      "100%|██████████| 2735/2735 [07:28<00:00,  6.10batch/s]\n"
     ]
    },
    {
     "name": "stdout",
     "output_type": "stream",
     "text": [
      "Total loss train: 0.03134731052253927, Recon loss train: 0.006959203980692795, Imputed loss train: 0.02438810649961233\n",
      "Total loss val: 0.01796916596800089, Recon loss val: 0.0037467068415880204, Imputed loss val: 0.014222459162970384\n",
      "EPOCH 22:\n"
     ]
    },
    {
     "name": "stderr",
     "output_type": "stream",
     "text": [
      "100%|██████████| 2735/2735 [07:17<00:00,  6.25batch/s]\n"
     ]
    },
    {
     "name": "stdout",
     "output_type": "stream",
     "text": [
      "Total loss train: 0.031084184300814357, Recon loss train: 0.006678796870559454, Imputed loss train: 0.024405387348788124\n",
      "Total loss val: 0.017506178810894488, Recon loss val: 0.0027783116013060014, Imputed loss val: 0.014727867215971153\n",
      "EPOCH 23:\n"
     ]
    },
    {
     "name": "stderr",
     "output_type": "stream",
     "text": [
      "100%|██████████| 2735/2735 [07:27<00:00,  6.11batch/s]\n"
     ]
    },
    {
     "name": "stdout",
     "output_type": "stream",
     "text": [
      "Total loss train: 0.03144391113485609, Recon loss train: 0.0070728761606769905, Imputed loss train: 0.024371035151055882\n",
      "Total loss val: 0.018115115493237972, Recon loss val: 0.0034095767689992984, Imputed loss val: 0.014705538756052653\n",
      "EPOCH 24:\n"
     ]
    },
    {
     "name": "stderr",
     "output_type": "stream",
     "text": [
      "100%|██████████| 2735/2735 [07:24<00:00,  6.15batch/s]\n"
     ]
    },
    {
     "name": "stdout",
     "output_type": "stream",
     "text": [
      "Total loss train: 0.03405023588721241, Recon loss train: 0.009461076441279479, Imputed loss train: 0.02458915972215789\n",
      "Total loss val: 0.018177849135994913, Recon loss val: 0.0037569245172291996, Imputed loss val: 0.014420924654503663\n",
      "EPOCH 25:\n"
     ]
    },
    {
     "name": "stderr",
     "output_type": "stream",
     "text": [
      "100%|██████████| 2735/2735 [07:19<00:00,  6.22batch/s]\n"
     ]
    },
    {
     "name": "stdout",
     "output_type": "stream",
     "text": [
      "Total loss train: 0.031696670792613714, Recon loss train: 0.00736461222037673, Imputed loss train: 0.024332058533302375\n",
      "Total loss val: 0.01742623983681202, Recon loss val: 0.003217125865916411, Imputed loss val: 0.014209114022552967\n",
      "EPOCH 26:\n"
     ]
    },
    {
     "name": "stderr",
     "output_type": "stream",
     "text": [
      "100%|██████████| 2735/2735 [07:21<00:00,  6.20batch/s]\n"
     ]
    },
    {
     "name": "stdout",
     "output_type": "stream",
     "text": [
      "Total loss train: 0.03110718972512654, Recon loss train: 0.0067752112995300975, Imputed loss train: 0.024331978466255323\n",
      "Total loss val: 0.019905317856272062, Recon loss val: 0.004959196576873461, Imputed loss val: 0.0149461212682724\n",
      "EPOCH 27:\n"
     ]
    },
    {
     "name": "stderr",
     "output_type": "stream",
     "text": [
      "100%|██████████| 2735/2735 [07:21<00:00,  6.19batch/s]\n"
     ]
    },
    {
     "name": "stdout",
     "output_type": "stream",
     "text": [
      "Total loss train: 0.03189298611521721, Recon loss train: 0.0074496117261690755, Imputed loss train: 0.024443374205401967\n",
      "Total loss val: 0.019394204423924286, Recon loss val: 0.004881303721939524, Imputed loss val: 0.014512900767127673\n",
      "EPOCH 28:\n"
     ]
    },
    {
     "name": "stderr",
     "output_type": "stream",
     "text": [
      "100%|██████████| 2735/2735 [07:18<00:00,  6.24batch/s]\n"
     ]
    },
    {
     "name": "stdout",
     "output_type": "stream",
     "text": [
      "Total loss train: 0.03253865761416299, Recon loss train: 0.008236587037146092, Imputed loss train: 0.02430207053729466\n",
      "Total loss val: 0.017440136911273003, Recon loss val: 0.002764576175759236, Imputed loss val: 0.01467556080232064\n",
      "EPOCH 29:\n"
     ]
    },
    {
     "name": "stderr",
     "output_type": "stream",
     "text": [
      "100%|██████████| 2735/2735 [07:17<00:00,  6.24batch/s]\n"
     ]
    },
    {
     "name": "stdout",
     "output_type": "stream",
     "text": [
      "Total loss train: 0.03187966001689434, Recon loss train: 0.007634897311329842, Imputed loss train: 0.02424476264698165\n",
      "Total loss val: 0.01987738350768884, Recon loss val: 0.005719837441792091, Imputed loss val: 0.014157546058694521\n",
      "EPOCH 30:\n"
     ]
    },
    {
     "name": "stderr",
     "output_type": "stream",
     "text": [
      "100%|██████████| 2735/2735 [07:24<00:00,  6.15batch/s]\n"
     ]
    },
    {
     "name": "stdout",
     "output_type": "stream",
     "text": [
      "Total loss train: 0.031585081156619954, Recon loss train: 0.007384767941875117, Imputed loss train: 0.024200313125337873\n",
      "Total loss val: 0.016543137853542965, Recon loss val: 0.0022151305578400693, Imputed loss val: 0.01432800732990106\n",
      "EPOCH 31:\n"
     ]
    },
    {
     "name": "stderr",
     "output_type": "stream",
     "text": [
      "100%|██████████| 2735/2735 [07:19<00:00,  6.23batch/s]\n"
     ]
    },
    {
     "name": "stdout",
     "output_type": "stream",
     "text": [
      "Total loss train: 0.031894279418332235, Recon loss train: 0.007694702429026365, Imputed loss train: 0.024199577146725996\n",
      "Total loss val: 0.018129690242409707, Recon loss val: 0.003420562860444188, Imputed loss val: 0.014709127454260985\n",
      "EPOCH 32:\n"
     ]
    },
    {
     "name": "stderr",
     "output_type": "stream",
     "text": [
      "100%|██████████| 2735/2735 [07:14<00:00,  6.30batch/s]\n"
     ]
    },
    {
     "name": "stdout",
     "output_type": "stream",
     "text": [
      "Total loss train: 0.03149652261393411, Recon loss train: 0.007275662105338914, Imputed loss train: 0.02422086046763829\n",
      "Total loss val: 0.017298150916894278, Recon loss val: 0.0029381374820073446, Imputed loss val: 0.01436001348098119\n",
      "EPOCH 33:\n"
     ]
    },
    {
     "name": "stderr",
     "output_type": "stream",
     "text": [
      "100%|██████████| 2735/2735 [07:19<00:00,  6.23batch/s]\n"
     ]
    },
    {
     "name": "stdout",
     "output_type": "stream",
     "text": [
      "Total loss train: 0.03281412675976753, Recon loss train: 0.008503211846649646, Imputed loss train: 0.024310915023641928\n",
      "Total loss val: 0.016944782479504743, Recon loss val: 0.002683521062731743, Imputed loss val: 0.014261261384983858\n",
      "EPOCH 34:\n"
     ]
    },
    {
     "name": "stderr",
     "output_type": "stream",
     "text": [
      "100%|██████████| 2735/2735 [07:18<00:00,  6.23batch/s]\n"
     ]
    },
    {
     "name": "stdout",
     "output_type": "stream",
     "text": [
      "Total loss train: 0.03128644891534533, Recon loss train: 0.00707136816399438, Imputed loss train: 0.0242150808262825\n",
      "Total loss val: 0.018495079325139524, Recon loss val: 0.0042512508416175845, Imputed loss val: 0.014243828470011552\n",
      "EPOCH 35:\n"
     ]
    },
    {
     "name": "stderr",
     "output_type": "stream",
     "text": [
      "100%|██████████| 2735/2735 [07:19<00:00,  6.22batch/s]\n"
     ]
    },
    {
     "name": "stdout",
     "output_type": "stream",
     "text": [
      "Total loss train: 0.03187803816837924, Recon loss train: 0.007639794496276549, Imputed loss train: 0.02423824368953705\n",
      "Total loss val: 0.01731148405313492, Recon loss val: 0.00321725112122794, Imputed loss val: 0.014094232908884684\n",
      "EPOCH 36:\n"
     ]
    },
    {
     "name": "stderr",
     "output_type": "stream",
     "text": [
      "100%|██████████| 2735/2735 [07:15<00:00,  6.28batch/s]\n"
     ]
    },
    {
     "name": "stdout",
     "output_type": "stream",
     "text": [
      "Total loss train: 0.03207242897770234, Recon loss train: 0.007782058315064226, Imputed loss train: 0.024290370923195567\n",
      "Total loss val: 0.01798453971296549, Recon loss val: 0.0036284202628334363, Imputed loss val: 0.014356119412779807\n",
      "EPOCH 37:\n"
     ]
    },
    {
     "name": "stderr",
     "output_type": "stream",
     "text": [
      "100%|██████████| 2735/2735 [07:21<00:00,  6.20batch/s]\n"
     ]
    },
    {
     "name": "stdout",
     "output_type": "stream",
     "text": [
      "Total loss train: 0.031784408123706066, Recon loss train: 0.007607183398987566, Imputed loss train: 0.02417722459478038\n",
      "Total loss val: 0.01846434644718965, Recon loss val: 0.003683233290910721, Imputed loss val: 0.014781113178531329\n",
      "EPOCH 38:\n"
     ]
    },
    {
     "name": "stderr",
     "output_type": "stream",
     "text": [
      "100%|██████████| 2735/2735 [07:23<00:00,  6.17batch/s]\n"
     ]
    },
    {
     "name": "stdout",
     "output_type": "stream",
     "text": [
      "Total loss train: 0.030726248650678568, Recon loss train: 0.006645457676776818, Imputed loss train: 0.024080791035124234\n",
      "Total loss val: 0.0189276951182882, Recon loss val: 0.003776459744970004, Imputed loss val: 0.01515123532007138\n",
      "EPOCH 39:\n"
     ]
    },
    {
     "name": "stderr",
     "output_type": "stream",
     "text": [
      "100%|██████████| 2735/2735 [07:20<00:00,  6.21batch/s]\n"
     ]
    },
    {
     "name": "stdout",
     "output_type": "stream",
     "text": [
      "Total loss train: 0.031216896086079735, Recon loss train: 0.006898356062471867, Imputed loss train: 0.024318540158612387\n",
      "Total loss val: 0.017047723015149435, Recon loss val: 0.002646499251474937, Imputed loss val: 0.01440122369925181\n",
      "EPOCH 40:\n"
     ]
    },
    {
     "name": "stderr",
     "output_type": "stream",
     "text": [
      "100%|██████████| 2735/2735 [07:25<00:00,  6.14batch/s]\n"
     ]
    },
    {
     "name": "stdout",
     "output_type": "stream",
     "text": [
      "Total loss train: 0.031400781707423074, Recon loss train: 0.007286959587122712, Imputed loss train: 0.024113822091647558\n",
      "Total loss val: 0.017274715764919915, Recon loss val: 0.003044557920396328, Imputed loss val: 0.014230157902538777\n",
      "EPOCH 41:\n"
     ]
    },
    {
     "name": "stderr",
     "output_type": "stream",
     "text": [
      "100%|██████████| 2735/2735 [07:17<00:00,  6.25batch/s]\n"
     ]
    },
    {
     "name": "stdout",
     "output_type": "stream",
     "text": [
      "Total loss train: 0.03078401715346745, Recon loss train: 0.0067046596516455925, Imputed loss train: 0.024079357368946074\n",
      "Total loss val: 0.021720827444791795, Recon loss val: 0.0075409077179680265, Imputed loss val: 0.014179919710159302\n",
      "EPOCH 42:\n"
     ]
    },
    {
     "name": "stderr",
     "output_type": "stream",
     "text": [
      "100%|██████████| 2735/2735 [07:20<00:00,  6.21batch/s]\n"
     ]
    },
    {
     "name": "stdout",
     "output_type": "stream",
     "text": [
      "Total loss train: 0.0311414710021019, Recon loss train: 0.007024515062762159, Imputed loss train: 0.024116955931356977\n",
      "Total loss val: 0.017441495756705602, Recon loss val: 0.002952525838414828, Imputed loss val: 0.014488969923853874\n",
      "EPOCH 43:\n"
     ]
    },
    {
     "name": "stderr",
     "output_type": "stream",
     "text": [
      "100%|██████████| 2735/2735 [07:16<00:00,  6.26batch/s]\n"
     ]
    },
    {
     "name": "stdout",
     "output_type": "stream",
     "text": [
      "Total loss train: 0.03118113382714135, Recon loss train: 0.007076135751924345, Imputed loss train: 0.02410499805454697\n",
      "Total loss val: 0.01632867449214061, Recon loss val: 0.0024319056410342455, Imputed loss val: 0.013896768891612689\n",
      "EPOCH 44:\n"
     ]
    },
    {
     "name": "stderr",
     "output_type": "stream",
     "text": [
      "100%|██████████| 2735/2735 [07:21<00:00,  6.19batch/s]\n"
     ]
    },
    {
     "name": "stdout",
     "output_type": "stream",
     "text": [
      "Total loss train: 0.030661459278975213, Recon loss train: 0.00659276740533965, Imputed loss train: 0.024068691964404924\n",
      "Total loss val: 0.019590431480606397, Recon loss val: 0.0053338167558113735, Imputed loss val: 0.014256614779631296\n",
      "EPOCH 45:\n"
     ]
    },
    {
     "name": "stderr",
     "output_type": "stream",
     "text": [
      "100%|██████████| 2735/2735 [07:16<00:00,  6.27batch/s]\n"
     ]
    },
    {
     "name": "stdout",
     "output_type": "stream",
     "text": [
      "Total loss train: 0.03128295246954475, Recon loss train: 0.007189214138048036, Imputed loss train: 0.024093738402255944\n",
      "Total loss val: 0.018781839514772098, Recon loss val: 0.004846532095099489, Imputed loss val: 0.013935307363271714\n",
      "EPOCH 46:\n"
     ]
    },
    {
     "name": "stderr",
     "output_type": "stream",
     "text": [
      "100%|██████████| 2735/2735 [07:16<00:00,  6.27batch/s]\n"
     ]
    },
    {
     "name": "stdout",
     "output_type": "stream",
     "text": [
      "Total loss train: 0.030887914120469775, Recon loss train: 0.006743814479410648, Imputed loss train: 0.0241440996790358\n",
      "Total loss val: 0.01718328103899956, Recon loss val: 0.002898665398284793, Imputed loss val: 0.014284615605771541\n",
      "EPOCH 47:\n"
     ]
    },
    {
     "name": "stderr",
     "output_type": "stream",
     "text": [
      "100%|██████████| 2735/2735 [07:20<00:00,  6.20batch/s]\n"
     ]
    },
    {
     "name": "stdout",
     "output_type": "stream",
     "text": [
      "Total loss train: 0.030841575381074633, Recon loss train: 0.0067391093348392415, Imputed loss train: 0.024102465868251665\n",
      "Total loss val: 0.01718866023461024, Recon loss val: 0.00322545385013024, Imputed loss val: 0.013963206352690856\n",
      "EPOCH 48:\n"
     ]
    },
    {
     "name": "stderr",
     "output_type": "stream",
     "text": [
      "100%|██████████| 2735/2735 [07:21<00:00,  6.20batch/s]\n"
     ]
    },
    {
     "name": "stdout",
     "output_type": "stream",
     "text": [
      "Total loss train: 0.03251175622063024, Recon loss train: 0.00840417005745428, Imputed loss train: 0.024107586261630058\n",
      "Total loss val: 0.020692655089298885, Recon loss val: 0.0064857288982967535, Imputed loss val: 0.014206926227509976\n",
      "EPOCH 49:\n"
     ]
    },
    {
     "name": "stderr",
     "output_type": "stream",
     "text": [
      "100%|██████████| 2735/2735 [07:17<00:00,  6.25batch/s]\n"
     ]
    },
    {
     "name": "stdout",
     "output_type": "stream",
     "text": [
      "Total loss train: 0.0310492353697334, Recon loss train: 0.0070577564914950305, Imputed loss train: 0.023991478929051333\n",
      "Total loss val: 0.016982652381658553, Recon loss val: 0.003187575976997614, Imputed loss val: 0.013795076403021812\n",
      "EPOCH 50:\n"
     ]
    },
    {
     "name": "stderr",
     "output_type": "stream",
     "text": [
      "100%|██████████| 2735/2735 [07:18<00:00,  6.23batch/s]\n"
     ]
    },
    {
     "name": "stdout",
     "output_type": "stream",
     "text": [
      "Total loss train: 0.030865937502384186, Recon loss train: 0.006782925304983344, Imputed loss train: 0.02408301216508661\n",
      "Total loss val: 0.01946501916229725, Recon loss val: 0.004636286996304989, Imputed loss val: 0.014828732226391634\n"
     ]
    }
   ],
   "source": [
    "if not train_from_scratch:\n",
    "    blochode_output, history = train(blochode,100,trainLoader,valLoader, model_file_path, 'AttnODE', optimizer, scheduler, chkpt_dir)\n",
    "else:\n",
    "    blochode_output, history = train(blochode,50,trainLoader,valLoader, model_file_path, 'AttnODE')"
   ]
  },
  {
   "cell_type": "markdown",
   "id": "8bd8b8ce",
   "metadata": {
    "id": "8bd8b8ce"
   },
   "source": [
    "### Train a fully connected neural network"
   ]
  },
  {
   "cell_type": "code",
   "execution_count": null,
   "id": "9e86c1a9",
   "metadata": {
    "id": "9e86c1a9"
   },
   "outputs": [],
   "source": [
    "trainDataset_ffn = TensorDataset(torch.tensor(np.concatenate([trainParams,train_B1,train_sat], axis = 1), dtype = torch.float32), torch.tensor(trainData, dtype = torch.float32))\n",
    "valDataset_ffn = TensorDataset(torch.tensor(np.concatenate([valParams,val_B1,val_sat], axis = 1), dtype = torch.float32), torch.tensor(valData, dtype = torch.float32))\n",
    "\n",
    "trainLoader_ffn = DataLoader(trainDataset_ffn, batch_size = 256, shuffle = True)\n",
    "valLoader_ffn = DataLoader(valDataset_ffn, batch_size = 1024, shuffle = False)"
   ]
  },
  {
   "cell_type": "code",
   "execution_count": null,
   "id": "88b383c5",
   "metadata": {
    "id": "88b383c5"
   },
   "outputs": [],
   "source": [
    "fullyconn_model = FFN(35, hidden_dim, output_dim)\n",
    "print('The number of parameters in the fully-connected network are: ' + str(sum([p.numel() for p in fullyconn_model.parameters()])))"
   ]
  },
  {
   "cell_type": "code",
   "execution_count": null,
   "id": "1be3d1bd",
   "metadata": {
    "id": "1be3d1bd"
   },
   "outputs": [],
   "source": [
    "ffn_history = train(fullyconn_model, epochs = 100, train_loader=trainLoader_ffn, val_loader=valLoader_ffn, model_save_path='Models', model_name='FFN')"
   ]
  },
  {
   "cell_type": "markdown",
   "id": "cd6fdc07",
   "metadata": {
    "id": "cd6fdc07"
   },
   "source": [
    "## Test the model"
   ]
  },
  {
   "cell_type": "markdown",
   "id": "a3abc26d",
   "metadata": {
    "id": "a3abc26d"
   },
   "source": [
    "### Test the Bloch ODE model"
   ]
  },
  {
   "cell_type": "code",
   "execution_count": 36,
   "id": "0dc2c03c",
   "metadata": {
    "id": "0dc2c03c"
   },
   "outputs": [
    {
     "data": {
      "text/plain": [
       "<All keys matched successfully>"
      ]
     },
     "execution_count": 36,
     "metadata": {},
     "output_type": "execute_result"
    }
   ],
   "source": [
    "# load the best model\n",
    "checkpoint = torch.load(r\"Models\\2025-05-13_11-17-55\\AttnODE_best.pth\", weights_only=True)\n",
    "blochode.load_state_dict(checkpoint['model_state_dict'])\n",
    "\n",
    "# checkpoint_ffn = torch.load(r\"Models\\2025-03-24_17-40-13\\FFN.pth\", weights_only=True)\n",
    "# fullyconn_model.load_state_dict(checkpoint_ffn['model_state_dict'])"
   ]
  },
  {
   "cell_type": "code",
   "execution_count": 37,
   "id": "aa0b135f",
   "metadata": {},
   "outputs": [
    {
     "data": {
      "text/plain": [
       "['trainData',\n",
       " 'train_nonZeroInds',\n",
       " 'train_nonNanInds',\n",
       " 'testData',\n",
       " 'test_nonZeroInds',\n",
       " 'test_nonnanInds']"
      ]
     },
     "execution_count": 37,
     "metadata": {},
     "output_type": "execute_result"
    }
   ],
   "source": [
    "data.files"
   ]
  },
  {
   "cell_type": "code",
   "execution_count": 38,
   "id": "d49d6184",
   "metadata": {
    "id": "d49d6184"
   },
   "outputs": [
    {
     "name": "stdout",
     "output_type": "stream",
     "text": [
      "(160506, 56, 3)\n"
     ]
    }
   ],
   "source": [
    "zspec_test = data['testData']\n",
    "zspec_test = zspec_test[data['test_nonZeroInds']]\n",
    "zspec_test = zspec_test[data['test_nonnanInds']]\n",
    "\n",
    "print(zspec_test.shape)"
   ]
  },
  {
   "cell_type": "markdown",
   "id": "b42dadeb",
   "metadata": {
    "id": "b42dadeb"
   },
   "source": [
    "### Test the model on randomly selected spectra"
   ]
  },
  {
   "cell_type": "code",
   "execution_count": 39,
   "id": "2e709f7c",
   "metadata": {
    "id": "2e709f7c"
   },
   "outputs": [],
   "source": [
    "X_test_ori = np.swapaxes(zspec_test, 1, -1)\n",
    "X_test_ori = X_test_ori.reshape(-1,56)\n",
    "\n",
    "X_test_mask = mcar(X_test_ori, 0.1)\n",
    "mask_test = ~np.isnan(X_test_mask)  + 0\n",
    "\n",
    "# offsets_test = np.tile(offsets + (-1*np.min(offsets)), [X_test_ori.shape[0],1]) / 1000.0\n",
    "offsets_test = np.tile(offsets_scaled, [X_test_ori.shape[0],1])\n",
    "\n",
    "B1 = np.array([28,50,70])\n",
    "B1 = (B1 - np.min(B1)) / (np.max(B1) - np.min(B1))\n",
    "B1_test = np.tile(B1, [zspec_test.shape[0], 1])\n",
    "B1_test = B1_test.reshape(-1,1)\n",
    "\n",
    "# satDur = satDur[:X_test_ori.shape[0]]\n",
    "satDur = np.repeat(3, [X_test_ori.shape[0]])\n",
    "satDur = satDur.reshape(-1, 1)"
   ]
  },
  {
   "cell_type": "code",
   "execution_count": 40,
   "id": "177e1a6b",
   "metadata": {
    "id": "177e1a6b"
   },
   "outputs": [
    {
     "name": "stdout",
     "output_type": "stream",
     "text": [
      "(481518, 56)\n",
      "(481518, 56)\n",
      "(481518, 56)\n",
      "(481518, 56)\n",
      "(481518, 1)\n",
      "(481518, 1)\n"
     ]
    }
   ],
   "source": [
    "print(X_test_ori.shape)\n",
    "print(mask_test.shape)\n",
    "print(X_test_mask.shape)\n",
    "print(offsets_test.shape)\n",
    "print(B1_test.shape)\n",
    "print(satDur.shape)"
   ]
  },
  {
   "cell_type": "code",
   "execution_count": 42,
   "id": "b887e03c",
   "metadata": {
    "id": "b887e03c"
   },
   "outputs": [],
   "source": [
    "testDataset = MyCustomDataset(X_test_mask, mask_test, B1_test, satDur, X_test_ori, offsets_test)\n",
    "testLoader = DataLoader(testDataset, batch_size = 1024, shuffle=False)"
   ]
  },
  {
   "cell_type": "code",
   "execution_count": 43,
   "id": "5b6eb1fa",
   "metadata": {},
   "outputs": [
    {
     "name": "stdout",
     "output_type": "stream",
     "text": [
      "Spectra batch shape: torch.Size([1024, 56])\n",
      "B1 batch shape: torch.Size([1024, 1])\n",
      "Sat. duration batch shape: torch.Size([1024, 1])\n",
      "Mask batch shape: torch.Size([1024, 56])\n",
      "Original spectra batch shape: torch.Size([1024, 56])\n",
      "Train offsets batch shape: torch.Size([1024, 56])\n"
     ]
    }
   ],
   "source": [
    "spec, B1_batch, sat_batch, mask_batch, spec_ori, test_offsets = next(iter(testLoader))\n",
    "# print(f\"Offsets batch shape: {train_offsets.size()}\")\n",
    "print(f\"Spectra batch shape: {spec.size()}\")\n",
    "print(f\"B1 batch shape: {B1_batch.size()}\")\n",
    "print(f\"Sat. duration batch shape: {sat_batch.size()}\")\n",
    "print(f\"Mask batch shape: {mask_batch.size()}\")\n",
    "print(f\"Original spectra batch shape: {spec_ori.size()}\")\n",
    "print(f\"Train offsets batch shape: {test_offsets.size()}\")"
   ]
  },
  {
   "cell_type": "code",
   "execution_count": 44,
   "id": "8aab5fe5",
   "metadata": {
    "id": "8aab5fe5"
   },
   "outputs": [],
   "source": [
    "zspec_test_model_output = test(blochode, testLoader)"
   ]
  },
  {
   "cell_type": "code",
   "execution_count": 45,
   "id": "d8c705f0",
   "metadata": {
    "id": "d8c705f0"
   },
   "outputs": [
    {
     "data": {
      "text/plain": [
       "(481518, 56)"
      ]
     },
     "execution_count": 45,
     "metadata": {},
     "output_type": "execute_result"
    }
   ],
   "source": [
    "zspec_test_model_output.shape"
   ]
  },
  {
   "cell_type": "code",
   "execution_count": 50,
   "id": "1e5db8ad",
   "metadata": {
    "id": "1e5db8ad"
   },
   "outputs": [
    {
     "data": {
      "text/plain": [
       "(-5.0, 5.0)"
      ]
     },
     "execution_count": 50,
     "metadata": {},
     "output_type": "execute_result"
    },
    {
     "data": {
      "image/png": "[encoded data removed]",
      "text/plain": [
       "<Figure size 640x480 with 1 Axes>"
      ]
     },
     "metadata": {},
     "output_type": "display_data"
    }
   ],
   "source": [
    "specNum = 7000\n",
    "plt.plot(offsets, zspec_test_model_output[specNum,:], label = 'Model output')\n",
    "plt.scatter(offsets, X_test_mask[specNum,:], label = 'Masked spectrum', alpha = 0.8, c = 'orange')\n",
    "plt.scatter(offsets, X_test_ori[specNum,:], label = 'Original spectrum', c = 'green', marker = 'x', alpha = 0.6)\n",
    "# plt.plot(offsets, np.abs(zspec_test_model_output[specNum,:] - X_test_ori[specNum,:]), label = 'Residual')\n",
    "plt.legend()\n",
    "plt.xlim([-5,5])"
   ]
  },
  {
   "cell_type": "code",
   "execution_count": null,
   "id": "ea89fda4",
   "metadata": {
    "id": "ea89fda4"
   },
   "outputs": [],
   "source": [
    "print(np.sum([p.numel() for p in blochode.parameters()]))"
   ]
  },
  {
   "cell_type": "markdown",
   "id": "f04f5de0",
   "metadata": {
    "id": "f04f5de0"
   },
   "source": [
    "### Test the FFN model"
   ]
  },
  {
   "cell_type": "code",
   "execution_count": null,
   "id": "60ff86fd",
   "metadata": {
    "id": "60ff86fd"
   },
   "outputs": [],
   "source": [
    "testDataset_ffn = TensorDataset(torch.tensor(np.concatenate([params_test_select, B1_test_select, sat_test_select], axis = 1), dtype = torch.float32),\n",
    "                                torch.tensor(zspec_test_select, dtype = torch.float32))\n",
    "\n",
    "testLoader_ffn = DataLoader(testDataset_ffn)"
   ]
  },
  {
   "cell_type": "code",
   "execution_count": null,
   "id": "f10204c3",
   "metadata": {
    "id": "f10204c3"
   },
   "outputs": [],
   "source": [
    "zspec_test_ffn_output = test_ffn(fullyconn_model, testLoader_ffn)"
   ]
  },
  {
   "cell_type": "code",
   "execution_count": null,
   "id": "8081d442",
   "metadata": {
    "id": "8081d442"
   },
   "outputs": [],
   "source": [
    "specNum = 4000\n",
    "plt.plot(offsets, zspec_test_ffn_output[specNum,:], label = 'Model output')\n",
    "plt.scatter(offsets, zspec_test_select[specNum,:], label = 'Original spectrum', alpha = 0.6, c = 'orange')\n",
    "plt.plot(offsets, zspec_test_ffn_output[specNum,:] - zspec_test_select[specNum,:], label = 'Residual')\n",
    "plt.xlim([-5,5])\n",
    "plt.legend()"
   ]
  },
  {
   "cell_type": "markdown",
   "id": "4a8aba61",
   "metadata": {
    "id": "4a8aba61"
   },
   "source": [
    "### Calculate root mean squared error on test reuslts"
   ]
  },
  {
   "cell_type": "code",
   "execution_count": null,
   "id": "b2da3162",
   "metadata": {
    "id": "b2da3162"
   },
   "outputs": [],
   "source": [
    "test_recon_error = np.sqrt(np.mean((zspec_test_model_output - zspec_test_select)**2, axis = 0))\n",
    "test_recon_error = np.mean(test_recon_error)\n",
    "print(test_recon_error)"
   ]
  },
  {
   "cell_type": "code",
   "execution_count": null,
   "id": "4e922992",
   "metadata": {
    "id": "4e922992"
   },
   "outputs": [],
   "source": [
    "ffn_test_recon_error = np.mean((zspec_test_ffn_output - zspec_test_select)**2, axis = 0)\n",
    "ffn_test_recon_error = np.mean(ffn_test_recon_error)\n",
    "print(ffn_test_recon_error)"
   ]
  }
 ],
 "metadata": {
  "accelerator": "GPU",
  "colab": {
   "gpuType": "T4",
   "provenance": []
  },
  "kernelspec": {
   "display_name": "imputation_dontuse",
   "language": "python",
   "name": "python3"
  },
  "language_info": {
   "codemirror_mode": {
    "name": "ipython",
    "version": 3
   },
   "file_extension": ".py",
   "mimetype": "text/x-python",
   "name": "python",
   "nbconvert_exporter": "python",
   "pygments_lexer": "ipython3",
   "version": "3.10.15"
  }
 },
 "nbformat": 4,
 "nbformat_minor": 5
}
