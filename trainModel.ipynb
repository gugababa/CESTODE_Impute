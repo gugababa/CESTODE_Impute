{
 "cells": [
  {
   "cell_type": "code",
   "execution_count": 1,
   "id": "6_k0nN5pcsFp",
   "metadata": {
    "colab": {
     "base_uri": "https://localhost:8080/"
    },
    "executionInfo": {
     "elapsed": 102583,
     "status": "ok",
     "timestamp": 1746115894672,
     "user": {
      "displayName": "Anshuman Swain",
      "userId": "11426383390517811390"
     },
     "user_tz": 240
    },
    "id": "6_k0nN5pcsFp",
    "outputId": "4ae5a031-e1f8-4216-fe95-ba344095d0e0"
   },
   "outputs": [
    {
     "name": "stdout",
     "output_type": "stream",
     "text": [
      "Requirement already satisfied: torchdiffeq in /usr/local/lib/python3.10/dist-packages (0.2.5)\n",
      "Requirement already satisfied: pygrinder in /usr/local/lib/python3.10/dist-packages (0.7)\n",
      "Requirement already satisfied: pytorch_warmup in /usr/local/lib/python3.10/dist-packages (0.2.0)\n",
      "Requirement already satisfied: matplotlib in /usr/local/lib/python3.10/dist-packages (3.10.3)\n",
      "Requirement already satisfied: torch>=1.5.0 in /usr/local/lib/python3.10/dist-packages (from torchdiffeq) (2.1.0+cu118)\n",
      "Requirement already satisfied: scipy>=1.4.0 in /usr/local/lib/python3.10/dist-packages (from torchdiffeq) (1.15.3)\n",
      "Requirement already satisfied: numpy in /usr/local/lib/python3.10/dist-packages (from pygrinder) (1.24.1)\n",
      "Requirement already satisfied: scikit-learn in /usr/local/lib/python3.10/dist-packages (from pygrinder) (1.6.1)\n",
      "Requirement already satisfied: pandas in /usr/local/lib/python3.10/dist-packages (from pygrinder) (2.2.3)\n",
      "Requirement already satisfied: tsdb in /usr/local/lib/python3.10/dist-packages (from pygrinder) (0.7.1)\n",
      "Requirement already satisfied: contourpy>=1.0.1 in /usr/local/lib/python3.10/dist-packages (from matplotlib) (1.3.2)\n",
      "Requirement already satisfied: cycler>=0.10 in /usr/local/lib/python3.10/dist-packages (from matplotlib) (0.12.1)\n",
      "Requirement already satisfied: fonttools>=4.22.0 in /usr/local/lib/python3.10/dist-packages (from matplotlib) (4.57.0)\n",
      "Requirement already satisfied: kiwisolver>=1.3.1 in /usr/local/lib/python3.10/dist-packages (from matplotlib) (1.4.8)\n",
      "Requirement already satisfied: packaging>=20.0 in /usr/local/lib/python3.10/dist-packages (from matplotlib) (23.2)\n",
      "Requirement already satisfied: pillow>=8 in /usr/local/lib/python3.10/dist-packages (from matplotlib) (9.3.0)\n",
      "Requirement already satisfied: pyparsing>=2.3.1 in /usr/lib/python3/dist-packages (from matplotlib) (2.4.7)\n",
      "Requirement already satisfied: python-dateutil>=2.7 in /usr/local/lib/python3.10/dist-packages (from matplotlib) (2.8.2)\n",
      "Requirement already satisfied: six>=1.5 in /usr/lib/python3/dist-packages (from python-dateutil>=2.7->matplotlib) (1.16.0)\n",
      "Requirement already satisfied: filelock in /usr/local/lib/python3.10/dist-packages (from torch>=1.5.0->torchdiffeq) (3.9.0)\n",
      "Requirement already satisfied: typing-extensions in /usr/local/lib/python3.10/dist-packages (from torch>=1.5.0->torchdiffeq) (4.4.0)\n",
      "Requirement already satisfied: sympy in /usr/local/lib/python3.10/dist-packages (from torch>=1.5.0->torchdiffeq) (1.12)\n",
      "Requirement already satisfied: networkx in /usr/local/lib/python3.10/dist-packages (from torch>=1.5.0->torchdiffeq) (3.0)\n",
      "Requirement already satisfied: jinja2 in /usr/local/lib/python3.10/dist-packages (from torch>=1.5.0->torchdiffeq) (3.1.2)\n",
      "Requirement already satisfied: fsspec in /usr/local/lib/python3.10/dist-packages (from torch>=1.5.0->torchdiffeq) (2023.4.0)\n",
      "Requirement already satisfied: triton==2.1.0 in /usr/local/lib/python3.10/dist-packages (from torch>=1.5.0->torchdiffeq) (2.1.0)\n",
      "Requirement already satisfied: pytz>=2020.1 in /usr/local/lib/python3.10/dist-packages (from pandas->pygrinder) (2025.2)\n",
      "Requirement already satisfied: tzdata>=2022.7 in /usr/local/lib/python3.10/dist-packages (from pandas->pygrinder) (2025.2)\n",
      "Requirement already satisfied: joblib>=1.2.0 in /usr/local/lib/python3.10/dist-packages (from scikit-learn->pygrinder) (1.5.0)\n",
      "Requirement already satisfied: threadpoolctl>=3.1.0 in /usr/local/lib/python3.10/dist-packages (from scikit-learn->pygrinder) (3.6.0)\n",
      "Requirement already satisfied: tqdm in /usr/local/lib/python3.10/dist-packages (from tsdb->pygrinder) (4.67.1)\n",
      "Requirement already satisfied: pyarrow in /usr/local/lib/python3.10/dist-packages (from tsdb->pygrinder) (20.0.0)\n",
      "Requirement already satisfied: requests in /usr/local/lib/python3.10/dist-packages (from tsdb->pygrinder) (2.31.0)\n",
      "Requirement already satisfied: MarkupSafe>=2.0 in /usr/local/lib/python3.10/dist-packages (from jinja2->torch>=1.5.0->torchdiffeq) (2.1.2)\n",
      "Requirement already satisfied: charset-normalizer<4,>=2 in /usr/local/lib/python3.10/dist-packages (from requests->tsdb->pygrinder) (2.1.1)\n",
      "Requirement already satisfied: idna<4,>=2.5 in /usr/local/lib/python3.10/dist-packages (from requests->tsdb->pygrinder) (3.4)\n",
      "Requirement already satisfied: urllib3<3,>=1.21.1 in /usr/local/lib/python3.10/dist-packages (from requests->tsdb->pygrinder) (1.26.13)\n",
      "Requirement already satisfied: certifi>=2017.4.17 in /usr/local/lib/python3.10/dist-packages (from requests->tsdb->pygrinder) (2022.12.7)\n",
      "Requirement already satisfied: mpmath>=0.19 in /usr/local/lib/python3.10/dist-packages (from sympy->torch>=1.5.0->torchdiffeq) (1.3.0)\n",
      "\u001b[33mWARNING: Running pip as the 'root' user can result in broken permissions and conflicting behaviour with the system package manager. It is recommended to use a virtual environment instead: https://pip.pypa.io/warnings/venv\u001b[0m\u001b[33m\n",
      "\u001b[0m\n",
      "\u001b[1m[\u001b[0m\u001b[34;49mnotice\u001b[0m\u001b[1;39;49m]\u001b[0m\u001b[39;49m A new release of pip is available: \u001b[0m\u001b[31;49m23.3.1\u001b[0m\u001b[39;49m -> \u001b[0m\u001b[32;49m25.1.1\u001b[0m\n",
      "\u001b[1m[\u001b[0m\u001b[34;49mnotice\u001b[0m\u001b[1;39;49m]\u001b[0m\u001b[39;49m To update, run: \u001b[0m\u001b[32;49mpython -m pip install --upgrade pip\u001b[0m\n"
     ]
    }
   ],
   "source": [
    "!pip install torchdiffeq pygrinder pytorch_warmup matplotlib"
   ]
  },
  {
   "cell_type": "code",
   "execution_count": 2,
   "id": "f0d34299-c04b-41ed-9ba0-2c8de8f52e66",
   "metadata": {
    "colab": {
     "base_uri": "https://localhost:8080/"
    },
    "executionInfo": {
     "elapsed": 14566,
     "status": "ok",
     "timestamp": 1746115909239,
     "user": {
      "displayName": "Anshuman Swain",
      "userId": "11426383390517811390"
     },
     "user_tz": 240
    },
    "id": "f0d34299-c04b-41ed-9ba0-2c8de8f52e66",
    "outputId": "412f004b-fcd6-4340-b9d8-55306173ebf9",
    "tags": []
   },
   "outputs": [],
   "source": [
    "import numpy as np\n",
    "import os\n",
    "import matplotlib.pyplot as plt\n",
    "from ode_model import *\n",
    "from utils import *\n",
    "import ode_model\n",
    "import utils\n",
    "import importlib\n",
    "import run_model\n",
    "from run_model import *\n",
    "from sklearn.model_selection import train_test_split\n",
    "from torch.utils.data import DataLoader, TensorDataset\n",
    "import json\n",
    "import pickle\n",
    "from pygrinder import mcar"
   ]
  },
  {
   "cell_type": "code",
   "execution_count": 3,
   "id": "a9e73553",
   "metadata": {
    "colab": {
     "base_uri": "https://localhost:8080/"
    },
    "executionInfo": {
     "elapsed": 19,
     "status": "ok",
     "timestamp": 1746115909259,
     "user": {
      "displayName": "Anshuman Swain",
      "userId": "11426383390517811390"
     },
     "user_tz": 240
    },
    "id": "a9e73553",
    "outputId": "05db5d46-fcfa-4bfd-c34f-3c4e75323b1e"
   },
   "outputs": [
    {
     "data": {
      "text/plain": [
       "<module 'utils' from '/workspace/utils.py'>"
      ]
     },
     "execution_count": 3,
     "metadata": {},
     "output_type": "execute_result"
    }
   ],
   "source": [
    "importlib.reload(run_model)\n",
    "importlib.reload(ode_model)\n",
    "importlib.reload(utils)"
   ]
  },
  {
   "cell_type": "code",
   "execution_count": 4,
   "id": "b5e5469b",
   "metadata": {
    "executionInfo": {
     "elapsed": 1,
     "status": "ok",
     "timestamp": 1746115909261,
     "user": {
      "displayName": "Anshuman Swain",
      "userId": "11426383390517811390"
     },
     "user_tz": 240
    },
    "id": "b5e5469b"
   },
   "outputs": [],
   "source": [
    "np.random.seed(42)"
   ]
  },
  {
   "cell_type": "markdown",
   "id": "a81db262",
   "metadata": {
    "id": "a81db262"
   },
   "source": [
    "## Load and prepare the data"
   ]
  },
  {
   "cell_type": "code",
   "execution_count": 5,
   "id": "jdfs_zqogFUR",
   "metadata": {
    "colab": {
     "base_uri": "https://localhost:8080/"
    },
    "executionInfo": {
     "elapsed": 115,
     "status": "ok",
     "timestamp": 1746115909376,
     "user": {
      "displayName": "Anshuman Swain",
      "userId": "11426383390517811390"
     },
     "user_tz": 240
    },
    "id": "jdfs_zqogFUR",
    "outputId": "e1321b31-5577-4b61-ba3c-c9375e6bcb9d"
   },
   "outputs": [
    {
     "name": "stdout",
     "output_type": "stream",
     "text": [
      "CESTppmlist_7T.txt   __pycache__   run_model.py\n",
      "Models\t\t     ffn_model.py  trainModel.ipynb\n",
      "ZSpecData_nopkl.npz  ode_model.py  utils.py\n"
     ]
    }
   ],
   "source": [
    "!ls"
   ]
  },
  {
   "cell_type": "code",
   "execution_count": 6,
   "id": "5d6c837c",
   "metadata": {
    "executionInfo": {
     "elapsed": 21030,
     "status": "ok",
     "timestamp": 1746115930406,
     "user": {
      "displayName": "Anshuman Swain",
      "userId": "11426383390517811390"
     },
     "user_tz": 240
    },
    "id": "5d6c837c"
   },
   "outputs": [],
   "source": [
    "data = np.load(\"ZSpecData_nopkl.npz\", allow_pickle = True)"
   ]
  },
  {
   "cell_type": "code",
   "execution_count": 7,
   "id": "1e5735ba-3728-434e-b1ff-4595c6e4507d",
   "metadata": {
    "colab": {
     "base_uri": "https://localhost:8080/"
    },
    "executionInfo": {
     "elapsed": 521,
     "status": "ok",
     "timestamp": 1746115930926,
     "user": {
      "displayName": "Anshuman Swain",
      "userId": "11426383390517811390"
     },
     "user_tz": 240
    },
    "id": "1e5735ba-3728-434e-b1ff-4595c6e4507d",
    "outputId": "2fa5938f-8071-4a58-c2b2-faab10c3f4b7",
    "tags": []
   },
   "outputs": [
    {
     "name": "stdout",
     "output_type": "stream",
     "text": [
      "(663397, 56, 3)\n",
      "8492.899\n"
     ]
    }
   ],
   "source": [
    "zspec = data['trainData']\n",
    "nonzeroInds = data['train_nonZeroInds']\n",
    "\n",
    "zspec = zspec[nonzeroInds]\n",
    "nonNanInds = data['train_nonNanInds']\n",
    "zpsec = zspec[nonNanInds]\n",
    "print(zspec.shape)\n",
    "print(np.max(zspec))"
   ]
  },
  {
   "cell_type": "code",
   "execution_count": 8,
   "id": "360c85d9",
   "metadata": {
    "colab": {
     "base_uri": "https://localhost:8080/"
    },
    "executionInfo": {
     "elapsed": 21,
     "status": "ok",
     "timestamp": 1746115930957,
     "user": {
      "displayName": "Anshuman Swain",
      "userId": "11426383390517811390"
     },
     "user_tz": 240
    },
    "id": "360c85d9",
    "outputId": "5c99b406-a0ff-4c78-d987-dca5fa059548"
   },
   "outputs": [
    {
     "name": "stdout",
     "output_type": "stream",
     "text": [
      "(663397, 3)\n"
     ]
    }
   ],
   "source": [
    "B1 = np.array([28,50,70])\n",
    "B1 = np.tile(B1, [zspec.shape[0], 1])\n",
    "print(B1.shape)"
   ]
  },
  {
   "cell_type": "code",
   "execution_count": 9,
   "id": "9d2811dd",
   "metadata": {
    "colab": {
     "base_uri": "https://localhost:8080/"
    },
    "executionInfo": {
     "elapsed": 496,
     "status": "ok",
     "timestamp": 1746115931454,
     "user": {
      "displayName": "Anshuman Swain",
      "userId": "11426383390517811390"
     },
     "user_tz": 240
    },
    "id": "9d2811dd",
    "outputId": "09c50030-6783-4b56-c879-ca4705689bc2"
   },
   "outputs": [
    {
     "name": "stdout",
     "output_type": "stream",
     "text": [
      "(1990191, 56)\n",
      "(1990191, 1)\n"
     ]
    }
   ],
   "source": [
    "zspec = np.swapaxes(zspec,1,-1)\n",
    "zspec = zspec.reshape(-1,56)\n",
    "print(zspec.shape)\n",
    "\n",
    "B1 = B1.reshape(-1,1)\n",
    "print(B1.shape)"
   ]
  },
  {
   "cell_type": "code",
   "execution_count": 10,
   "id": "420ac036",
   "metadata": {
    "colab": {
     "base_uri": "https://localhost:8080/"
    },
    "executionInfo": {
     "elapsed": 3,
     "status": "ok",
     "timestamp": 1746115931454,
     "user": {
      "displayName": "Anshuman Swain",
      "userId": "11426383390517811390"
     },
     "user_tz": 240
    },
    "id": "420ac036",
    "outputId": "7fb1bb75-f038-4ceb-db63-fa53b751dcaf"
   },
   "outputs": [
    {
     "name": "stdout",
     "output_type": "stream",
     "text": [
      "(1990191, 1)\n"
     ]
    }
   ],
   "source": [
    "satDur = 3\n",
    "satDur = np.repeat(3, zspec.shape[0])\n",
    "satDur = satDur.reshape(-1,1)\n",
    "print(satDur.shape)"
   ]
  },
  {
   "cell_type": "code",
   "execution_count": 11,
   "id": "631329dd-d516-40e2-acb5-0f5ac1c09a15",
   "metadata": {
    "colab": {
     "base_uri": "https://localhost:8080/"
    },
    "executionInfo": {
     "elapsed": 508,
     "status": "ok",
     "timestamp": 1746115931961,
     "user": {
      "displayName": "Anshuman Swain",
      "userId": "11426383390517811390"
     },
     "user_tz": 240
    },
    "id": "631329dd-d516-40e2-acb5-0f5ac1c09a15",
    "outputId": "cfd5e6f1-549a-41e4-b0fe-9c2d611c1e73",
    "tags": []
   },
   "outputs": [
    {
     "name": "stdout",
     "output_type": "stream",
     "text": [
      "[-300.  -100.   -50.   -20.   -12.    -9.    -7.2   -6.2   -5.5   -4.7\n",
      "   -4.    -3.3   -2.7   -2.    -1.7   -1.5   -1.1   -0.9   -0.6   -0.4\n",
      "    0.     0.4    0.6    0.9    1.1    1.2    1.4    1.5    1.7    1.8\n",
      "    2.     2.1    2.3    2.4    2.6    2.7    2.9    3.     3.2    3.3\n",
      "    3.5    3.6    3.8    3.9    4.1    4.2    4.4    4.7    5.2    6.2\n",
      "    8.    12.    20.    50.   100.   300. ]\n",
      "56\n"
     ]
    }
   ],
   "source": [
    "offsets = np.loadtxt('CESTppmlist_7T.txt')\n",
    "print(offsets)\n",
    "print(len(offsets))"
   ]
  },
  {
   "cell_type": "code",
   "execution_count": 12,
   "id": "7a8816c9",
   "metadata": {
    "executionInfo": {
     "elapsed": 1,
     "status": "ok",
     "timestamp": 1746115931962,
     "user": {
      "displayName": "Anshuman Swain",
      "userId": "11426383390517811390"
     },
     "user_tz": 240
    },
    "id": "7a8816c9"
   },
   "outputs": [],
   "source": [
    "trainIndsSelect = np.random.randint(low = 0, high = zspec.shape[0], size = int(10000))\n",
    "zspec = zspec[trainIndsSelect,:]\n",
    "B1 = B1[trainIndsSelect,:]\n",
    "satDur = satDur[trainIndsSelect,:]"
   ]
  },
  {
   "cell_type": "code",
   "execution_count": 13,
   "id": "1eb9c326",
   "metadata": {
    "colab": {
     "base_uri": "https://localhost:8080/"
    },
    "executionInfo": {
     "elapsed": 4,
     "status": "ok",
     "timestamp": 1746115931967,
     "user": {
      "displayName": "Anshuman Swain",
      "userId": "11426383390517811390"
     },
     "user_tz": 240
    },
    "id": "1eb9c326",
    "outputId": "7bc99597-9414-4006-bfae-a5fcd3bf6e08"
   },
   "outputs": [
    {
     "name": "stdout",
     "output_type": "stream",
     "text": [
      "[[1.        ]\n",
      " [0.52380952]\n",
      " [0.52380952]\n",
      " ...\n",
      " [0.        ]\n",
      " [0.        ]\n",
      " [0.        ]]\n"
     ]
    }
   ],
   "source": [
    "# normalize B1\n",
    "B1 = (B1 - np.min(B1)) / (np.max(B1) - np.min(B1))\n",
    "print(B1)"
   ]
  },
  {
   "cell_type": "markdown",
   "id": "13a604eb",
   "metadata": {
    "id": "13a604eb"
   },
   "source": [
    "### Create training and validation sets"
   ]
  },
  {
   "cell_type": "code",
   "execution_count": 14,
   "id": "554f5f50-0887-4245-8b18-5c7ffd85a5b4",
   "metadata": {
    "executionInfo": {
     "elapsed": 507,
     "status": "ok",
     "timestamp": 1746115932473,
     "user": {
      "displayName": "Anshuman Swain",
      "userId": "11426383390517811390"
     },
     "user_tz": 240
    },
    "id": "554f5f50-0887-4245-8b18-5c7ffd85a5b4",
    "tags": []
   },
   "outputs": [],
   "source": [
    "# split data in training and validation sets\n",
    "trainData, valData, trainInds, valInds = train_test_split(zspec,np.arange(len(zspec)),test_size = 0.3, random_state = 42)\n",
    "\n",
    "train_B1 = B1[trainInds,:]\n",
    "val_B1 = B1[valInds,:]\n",
    "\n",
    "train_sat = satDur[trainInds,:]\n",
    "val_sat = satDur[valInds,:]"
   ]
  },
  {
   "cell_type": "code",
   "execution_count": 15,
   "id": "e0270653",
   "metadata": {
    "executionInfo": {
     "elapsed": 2937,
     "status": "ok",
     "timestamp": 1746115935411,
     "user": {
      "displayName": "Anshuman Swain",
      "userId": "11426383390517811390"
     },
     "user_tz": 240
    },
    "id": "e0270653"
   },
   "outputs": [],
   "source": [
    "X_train_ori = trainData\n",
    "X_val_ori = valData\n",
    "\n",
    "X_train = mcar(X_train_ori, 0.3)\n",
    "X_val = mcar(X_val_ori, 0.2)\n",
    "\n",
    "X_train_mask = ~np.isnan(X_train) + 0\n",
    "X_val_mask = ~np.isnan(X_val) + 0"
   ]
  },
  {
   "cell_type": "code",
   "execution_count": 16,
   "id": "1dab03ba",
   "metadata": {
    "colab": {
     "base_uri": "https://localhost:8080/"
    },
    "executionInfo": {
     "elapsed": 4,
     "status": "ok",
     "timestamp": 1746118749397,
     "user": {
      "displayName": "Anshuman Swain",
      "userId": "11426383390517811390"
     },
     "user_tz": 240
    },
    "id": "1dab03ba",
    "outputId": "1c80f669-37a7-4946-9398-9dbaec33525f"
   },
   "outputs": [
    {
     "name": "stdout",
     "output_type": "stream",
     "text": [
      "[       nan 0.99434614 0.9878741  0.9856733         nan        nan\n",
      "        nan 0.94849837 0.9334384         nan 0.8880286  0.86952394\n",
      "        nan 0.8863322         nan 0.8769167  0.8717134  0.8523776\n",
      "        nan 0.7610959  0.30816588 0.34228608        nan        nan\n",
      "        nan        nan 0.8910882  0.8931315  0.9145171         nan\n",
      " 0.90923417        nan 0.90869415 0.8921701  0.91293937 0.9158773\n",
      "        nan 0.91964597 0.91244936 0.916553   0.91932255 0.9194456\n",
      "        nan 0.9276481         nan 0.93367505 0.9363962         nan\n",
      " 0.9421474  0.95245266 0.96153796 0.9714472  0.95824814 0.9863789\n",
      " 0.99198514 0.9897099 ]\n",
      "[0 1 1 1 0 0 0 1 1 0 1 1 0 1 0 1 1 1 0 1 1 1 0 0 0 0 1 1 1 0 1 0 1 1 1 1 0\n",
      " 1 1 1 1 1 0 1 0 1 1 0 1 1 1 1 1 1 1 1]\n"
     ]
    }
   ],
   "source": [
    "print(X_train[0,:])\n",
    "print(X_train_mask[0,:])"
   ]
  },
  {
   "cell_type": "code",
   "execution_count": 17,
   "id": "567b704d",
   "metadata": {
    "executionInfo": {
     "elapsed": 1,
     "status": "ok",
     "timestamp": 1746115935428,
     "user": {
      "displayName": "Anshuman Swain",
      "userId": "11426383390517811390"
     },
     "user_tz": 240
    },
    "id": "567b704d"
   },
   "outputs": [],
   "source": [
    "offsets_train = np.tile(offsets, [X_train.shape[0], 1])\n",
    "offsets_val = np.tile(offsets, [X_val.shape[0], 1])\n",
    "\n",
    "# offsets_scaled = (offsets - np.min(offsets))/(np.max(offsets) - np.min(offsets))\n",
    "# offsets_train = np.tile(offsets_scaled, [X_train.shape[0],1])\n",
    "# offsets_val = np.tile(offsets_scaled, [X_val.shape[0],1])"
   ]
  },
  {
   "cell_type": "code",
   "execution_count": 18,
   "id": "58ef595a-d678-469e-8a10-2bacf929a4f0",
   "metadata": {
    "executionInfo": {
     "elapsed": 4,
     "status": "ok",
     "timestamp": 1746118794969,
     "user": {
      "displayName": "Anshuman Swain",
      "userId": "11426383390517811390"
     },
     "user_tz": 240
    },
    "id": "58ef595a-d678-469e-8a10-2bacf929a4f0",
    "tags": []
   },
   "outputs": [],
   "source": [
    "trainDataset = MyCustomDataset(X_train, X_train_mask, train_B1, train_sat, X_train_ori, offsets_train)\n",
    "valDataset = MyCustomDataset(X_val, X_val_mask, val_B1, val_sat, X_val_ori, offsets_val)\n",
    "\n",
    "# trainLoader = DataLoader(trainDataset, batch_size = 256, shuffle = True, num_workers=8, pin_memory=True)\n",
    "# valLoader = DataLoader(valDataset, batch_size = 1024, shuffle = False, num_workers=8, pin_memory=True)\n",
    "\n",
    "trainLoader = DataLoader(trainDataset, batch_size = 64, shuffle = True)\n",
    "valLoader = DataLoader(valDataset, batch_size = 1024, shuffle = False)"
   ]
  },
  {
   "cell_type": "code",
   "execution_count": 19,
   "id": "d253165a-3b3c-42dd-8727-ebd434e16e43",
   "metadata": {
    "colab": {
     "base_uri": "https://localhost:8080/"
    },
    "executionInfo": {
     "elapsed": 358,
     "status": "ok",
     "timestamp": 1746118796713,
     "user": {
      "displayName": "Anshuman Swain",
      "userId": "11426383390517811390"
     },
     "user_tz": 240
    },
    "id": "d253165a-3b3c-42dd-8727-ebd434e16e43",
    "outputId": "8ba23415-78ad-4415-e53a-e909329dd3cc",
    "tags": []
   },
   "outputs": [
    {
     "name": "stdout",
     "output_type": "stream",
     "text": [
      "Spectra batch shape: torch.Size([64, 56])\n",
      "B1 batch shape: torch.Size([64, 1])\n",
      "Sat. duration batch shape: torch.Size([64, 1])\n",
      "Mask batch shape: torch.Size([64, 56])\n",
      "Original spectra batch shape: torch.Size([64, 56])\n",
      "Train offsets batch shape: torch.Size([64, 56])\n"
     ]
    }
   ],
   "source": [
    "# train_offsets, train_spec, train_B1_batch, train_sat_batch, mask_batch, train_spec_ori = next(iter(trainLoader))\n",
    "train_spec, train_B1_batch, train_sat_batch, mask_batch, train_spec_ori, train_offsets = next(iter(trainLoader))\n",
    "# print(f\"Offsets batch shape: {train_offsets.size()}\")\n",
    "print(f\"Spectra batch shape: {train_spec.size()}\")\n",
    "print(f\"B1 batch shape: {train_B1_batch.size()}\")\n",
    "print(f\"Sat. duration batch shape: {train_sat_batch.size()}\")\n",
    "print(f\"Mask batch shape: {mask_batch.size()}\")\n",
    "print(f\"Original spectra batch shape: {train_spec_ori.size()}\")\n",
    "print(f\"Train offsets batch shape: {train_offsets.size()}\")"
   ]
  },
  {
   "cell_type": "markdown",
   "id": "81966937",
   "metadata": {
    "id": "81966937"
   },
   "source": [
    "## Train the model"
   ]
  },
  {
   "cell_type": "code",
   "execution_count": 20,
   "id": "554ae4c1",
   "metadata": {
    "executionInfo": {
     "elapsed": 6,
     "status": "ok",
     "timestamp": 1746115958677,
     "user": {
      "displayName": "Anshuman Swain",
      "userId": "11426383390517811390"
     },
     "user_tz": 240
    },
    "id": "554ae4c1"
   },
   "outputs": [],
   "source": [
    "model_file_path = \"Models\""
   ]
  },
  {
   "cell_type": "code",
   "execution_count": 21,
   "id": "8688d4e8",
   "metadata": {
    "executionInfo": {
     "elapsed": 6,
     "status": "ok",
     "timestamp": 1746118773411,
     "user": {
      "displayName": "Anshuman Swain",
      "userId": "11426383390517811390"
     },
     "user_tz": 240
    },
    "id": "8688d4e8"
   },
   "outputs": [],
   "source": [
    "params = {'input_dim':1,\n",
    "          'seq_len': X_train_ori.shape[-1],\n",
    "          'feature_dim': 8,\n",
    "          'model_dim': 128,\n",
    "          'inner_dim': 64,\n",
    "          'ode_hidden_dim': 64,\n",
    "          'state_dim': 3,\n",
    "          'param_dim': 3,\n",
    "          'latent_dim': 32,\n",
    "          'n_heads': 2,\n",
    "          'diag_attn_mask': True,\n",
    "          'dropout': 0.1}\n",
    "\n",
    "blochode = AttnODE(**params)"
   ]
  },
  {
   "cell_type": "code",
   "execution_count": 22,
   "id": "ae-qHhBSgTxc",
   "metadata": {
    "executionInfo": {
     "elapsed": 1,
     "status": "ok",
     "timestamp": 1746118775554,
     "user": {
      "displayName": "Anshuman Swain",
      "userId": "11426383390517811390"
     },
     "user_tz": 240
    },
    "id": "ae-qHhBSgTxc"
   },
   "outputs": [],
   "source": [
    "# indicate if training from scratch or learned weights\n",
    "train_from_scratch = 1\n",
    "model_name = 'AttnODE'"
   ]
  },
  {
   "cell_type": "code",
   "execution_count": 23,
   "id": "d5f8a8f0",
   "metadata": {
    "executionInfo": {
     "elapsed": 7,
     "status": "ok",
     "timestamp": 1746118776856,
     "user": {
      "displayName": "Anshuman Swain",
      "userId": "11426383390517811390"
     },
     "user_tz": 240
    },
    "id": "d5f8a8f0"
   },
   "outputs": [],
   "source": [
    "def init_weights(m):\n",
    "    if isinstance(m, nn.Linear):\n",
    "        torch.nn.init.kaiming_normal_(m.weight)\n",
    "\n",
    "if train_from_scratch:\n",
    "    blochode.apply(init_weights)\n",
    "else:\n",
    "    chkpt_dir = 'Models/2025-05-03_03-29-34'\n",
    "    chkpt_dict = torch.load(os.path.join(chkpt_dir,model_name + '_current.pth'), map_location = 'cuda')\n",
    "    \n",
    "    blochode.load_state_dict(chkpt_dict['model_state_dict'])\n",
    "    \n",
    "    optimizer = torch.optim.AdamW(blochode.parameters())\n",
    "    optimizer.load_state_dict(chkpt_dict['optimizer_state_dict'])\n",
    "    T_0 = int(0.02 * len(trainLoader.dataset))\n",
    "    T_mult = 2\n",
    "    scheduler = torch.optim.lr_scheduler.CosineAnnealingWarmRestarts(optimizer, T_0 = T_0, T_mult = T_mult, eta_min = 1e-6)\n",
    "    scheduler.load_state_dict(chkpt_dict['scheduler_state_dict'])"
   ]
  },
  {
   "cell_type": "code",
   "execution_count": null,
   "id": "1cffa169",
   "metadata": {
    "colab": {
     "base_uri": "https://localhost:8080/",
     "height": 408
    },
    "executionInfo": {
     "elapsed": 543,
     "status": "error",
     "timestamp": 1746118800984,
     "user": {
      "displayName": "Anshuman Swain",
      "userId": "11426383390517811390"
     },
     "user_tz": 240
    },
    "id": "1cffa169",
    "outputId": "cae3d439-efd2-4bc1-89b3-97e579d6b6f7"
   },
   "outputs": [],
   "source": [
    "if not train_from_scratch:\n",
    "    blochode_output, history = train(blochode,100,trainLoader,valLoader, model_file_path, 'AttnODE', optimizer, scheduler, chkpt_dir)\n",
    "else:\n",
    "    blochode_output, history = train(blochode,100,trainLoader,valLoader, model_file_path, 'AttnODE')"
   ]
  },
  {
   "cell_type": "markdown",
   "id": "8bd8b8ce",
   "metadata": {
    "id": "8bd8b8ce"
   },
   "source": [
    "### Train a fully connected neural network"
   ]
  },
  {
   "cell_type": "code",
   "execution_count": null,
   "id": "9e86c1a9",
   "metadata": {
    "id": "9e86c1a9"
   },
   "outputs": [],
   "source": [
    "trainDataset_ffn = TensorDataset(torch.tensor(np.concatenate([trainParams,train_B1,train_sat], axis = 1), dtype = torch.float32), torch.tensor(trainData, dtype = torch.float32))\n",
    "valDataset_ffn = TensorDataset(torch.tensor(np.concatenate([valParams,val_B1,val_sat], axis = 1), dtype = torch.float32), torch.tensor(valData, dtype = torch.float32))\n",
    "\n",
    "trainLoader_ffn = DataLoader(trainDataset_ffn, batch_size = 256, shuffle = True)\n",
    "valLoader_ffn = DataLoader(valDataset_ffn, batch_size = 1024, shuffle = False)"
   ]
  },
  {
   "cell_type": "code",
   "execution_count": null,
   "id": "88b383c5",
   "metadata": {
    "id": "88b383c5"
   },
   "outputs": [],
   "source": [
    "fullyconn_model = FFN(35, hidden_dim, output_dim)\n",
    "print('The number of parameters in the fully-connected network are: ' + str(sum([p.numel() for p in fullyconn_model.parameters()])))"
   ]
  },
  {
   "cell_type": "code",
   "execution_count": null,
   "id": "1be3d1bd",
   "metadata": {
    "id": "1be3d1bd"
   },
   "outputs": [],
   "source": [
    "ffn_history = train(fullyconn_model, epochs = 100, train_loader=trainLoader_ffn, val_loader=valLoader_ffn, model_save_path='Models', model_name='FFN')"
   ]
  },
  {
   "cell_type": "markdown",
   "id": "cd6fdc07",
   "metadata": {
    "id": "cd6fdc07"
   },
   "source": [
    "## Test the model"
   ]
  },
  {
   "cell_type": "markdown",
   "id": "a3abc26d",
   "metadata": {
    "id": "a3abc26d"
   },
   "source": [
    "### Test the Bloch ODE model"
   ]
  },
  {
   "cell_type": "code",
   "execution_count": 7,
   "id": "0dc2c03c",
   "metadata": {
    "id": "0dc2c03c"
   },
   "outputs": [
    {
     "name": "stderr",
     "output_type": "stream",
     "text": [
      "/usr/local/lib/python3.10/dist-packages/torch/_utils.py:831: UserWarning: TypedStorage is deprecated. It will be removed in the future and UntypedStorage will be the only storage class. This should only matter to you if you are using storages directly.  To access UntypedStorage directly, use tensor.untyped_storage() instead of tensor.storage()\n",
      "  return self.fget.__get__(instance, owner)()\n"
     ]
    },
    {
     "data": {
      "text/plain": [
       "<All keys matched successfully>"
      ]
     },
     "execution_count": 7,
     "metadata": {},
     "output_type": "execute_result"
    }
   ],
   "source": [
    "# load the best model\n",
    "checkpoint = torch.load(\"Models/2025-05-06_03-16-55/AttnODE_best.pth\", weights_only=True)\n",
    "blochode.load_state_dict(checkpoint['model_state_dict'])\n",
    "\n",
    "# checkpoint_ffn = torch.load(r\"Models\\2025-03-24_17-40-13\\FFN.pth\", weights_only=True)\n",
    "# fullyconn_model.load_state_dict(checkpoint_ffn['model_state_dict'])"
   ]
  },
  {
   "cell_type": "code",
   "execution_count": 8,
   "id": "aa0b135f",
   "metadata": {},
   "outputs": [
    {
     "data": {
      "text/plain": [
       "['trainData',\n",
       " 'train_nonZeroInds',\n",
       " 'train_nonNanInds',\n",
       " 'testData',\n",
       " 'test_nonZeroInds',\n",
       " 'test_nonnanInds']"
      ]
     },
     "execution_count": 8,
     "metadata": {},
     "output_type": "execute_result"
    }
   ],
   "source": [
    "data.files"
   ]
  },
  {
   "cell_type": "code",
   "execution_count": 9,
   "id": "d49d6184",
   "metadata": {
    "id": "d49d6184"
   },
   "outputs": [
    {
     "name": "stdout",
     "output_type": "stream",
     "text": [
      "(160506, 56, 3)\n"
     ]
    }
   ],
   "source": [
    "zspec_test = data['testData']\n",
    "zspec_test = zspec_test[data['test_nonZeroInds']]\n",
    "zspec_test = zspec_test[data['test_nonnanInds']]\n",
    "\n",
    "print(zspec_test.shape)"
   ]
  },
  {
   "cell_type": "markdown",
   "id": "b42dadeb",
   "metadata": {
    "id": "b42dadeb"
   },
   "source": [
    "### Test the model on randomly selected spectra"
   ]
  },
  {
   "cell_type": "code",
   "execution_count": 19,
   "id": "2e709f7c",
   "metadata": {
    "id": "2e709f7c"
   },
   "outputs": [],
   "source": [
    "X_test_ori = np.swapaxes(zspec_test, 1, -1)\n",
    "X_test_ori = X_test_ori.reshape(-1,56)\n",
    "\n",
    "X_test_mask = mcar(X_test_ori, 0.1)\n",
    "mask_test = ~np.isnan(X_test_ori)  + 0\n",
    "\n",
    "# offsets_test = np.tile(offsets + (-1*np.min(offsets)), [X_test_ori.shape[0],1]) / 1000.0\n",
    "offsets_test = np.tile(offsets, [X_test_ori.shape[0],1])\n",
    "\n",
    "B1 = np.array([28,50,70])\n",
    "B1 = (B1 - np.min(B1)) / (np.max(B1) - np.min(B1))\n",
    "B1_test = np.tile(B1, [zspec_test.shape[0], 1])\n",
    "B1_test = B1_test.reshape(-1,1)\n",
    "\n",
    "satDur = satDur[:X_test_ori.shape[0]]"
   ]
  },
  {
   "cell_type": "code",
   "execution_count": 20,
   "id": "177e1a6b",
   "metadata": {
    "id": "177e1a6b"
   },
   "outputs": [
    {
     "name": "stdout",
     "output_type": "stream",
     "text": [
      "(481518, 56)\n",
      "(481518, 56)\n",
      "(481518, 56)\n",
      "(481518, 56)\n",
      "(481518, 1)\n",
      "(481518, 1)\n"
     ]
    }
   ],
   "source": [
    "print(X_test_ori.shape)\n",
    "print(mask_test.shape)\n",
    "print(X_test_mask.shape)\n",
    "print(offsets_test.shape)\n",
    "print(B1_test.shape)\n",
    "print(satDur.shape)"
   ]
  },
  {
   "cell_type": "code",
   "execution_count": 21,
   "id": "b887e03c",
   "metadata": {
    "id": "b887e03c"
   },
   "outputs": [],
   "source": [
    "testDataset = MyCustomDataset(X_test_mask, mask_test, B1_test, satDur, X_test_ori, offsets_test)\n",
    "testLoader = DataLoader(testDataset, batch_size = 1024, shuffle=False)"
   ]
  },
  {
   "cell_type": "code",
   "execution_count": 22,
   "id": "5b6eb1fa",
   "metadata": {},
   "outputs": [
    {
     "name": "stdout",
     "output_type": "stream",
     "text": [
      "Spectra batch shape: torch.Size([1024, 56])\n",
      "B1 batch shape: torch.Size([1024, 1])\n",
      "Sat. duration batch shape: torch.Size([1024, 1])\n",
      "Mask batch shape: torch.Size([1024, 56])\n",
      "Original spectra batch shape: torch.Size([1024, 56])\n",
      "Train offsets batch shape: torch.Size([1024, 56])\n"
     ]
    }
   ],
   "source": [
    "spec, B1_batch, sat_batch, mask_batch, spec_ori, test_offsets = next(iter(testLoader))\n",
    "# print(f\"Offsets batch shape: {train_offsets.size()}\")\n",
    "print(f\"Spectra batch shape: {spec.size()}\")\n",
    "print(f\"B1 batch shape: {B1_batch.size()}\")\n",
    "print(f\"Sat. duration batch shape: {sat_batch.size()}\")\n",
    "print(f\"Mask batch shape: {mask_batch.size()}\")\n",
    "print(f\"Original spectra batch shape: {spec_ori.size()}\")\n",
    "print(f\"Train offsets batch shape: {test_offsets.size()}\")"
   ]
  },
  {
   "cell_type": "code",
   "execution_count": 26,
   "id": "8aab5fe5",
   "metadata": {
    "id": "8aab5fe5"
   },
   "outputs": [],
   "source": [
    "zspec_test_model_output = test(blochode, testLoader)"
   ]
  },
  {
   "cell_type": "code",
   "execution_count": 27,
   "id": "d8c705f0",
   "metadata": {
    "id": "d8c705f0"
   },
   "outputs": [
    {
     "data": {
      "text/plain": [
       "(481518, 56)"
      ]
     },
     "execution_count": 27,
     "metadata": {},
     "output_type": "execute_result"
    }
   ],
   "source": [
    "zspec_test_model_output.shape"
   ]
  },
  {
   "cell_type": "code",
   "execution_count": 45,
   "id": "1e5db8ad",
   "metadata": {
    "id": "1e5db8ad"
   },
   "outputs": [
    {
     "data": {
      "text/plain": [
       "(-5.0, 5.0)"
      ]
     },
     "execution_count": 45,
     "metadata": {},
     "output_type": "execute_result"
    },
    {
     "data": {
      "image/png": "[encoded data removed]",
      "text/plain": [
       "<Figure size 640x480 with 1 Axes>"
      ]
     },
     "metadata": {},
     "output_type": "display_data"
    }
   ],
   "source": [
    "specNum = 10000\n",
    "plt.plot(offsets, zspec_test_model_output[specNum,:], label = 'Model output')\n",
    "plt.scatter(offsets, X_test_mask[specNum,:], label = 'Masked spectrum', alpha = 0.8, c = 'orange')\n",
    "plt.scatter(offsets, X_test_ori[specNum,:], label = 'Original spectrum', c = 'green', marker = 'x', alpha = 0.6)\n",
    "# plt.plot(offsets, np.abs(zspec_test_model_output[specNum,:] - X_test_ori[specNum,:]), label = 'Residual')\n",
    "plt.legend()\n",
    "plt.xlim([-5,5])"
   ]
  },
  {
   "cell_type": "code",
   "execution_count": null,
   "id": "ea89fda4",
   "metadata": {
    "id": "ea89fda4"
   },
   "outputs": [],
   "source": [
    "print(np.sum([p.numel() for p in blochode.parameters()]))"
   ]
  },
  {
   "cell_type": "markdown",
   "id": "f04f5de0",
   "metadata": {
    "id": "f04f5de0"
   },
   "source": [
    "### Test the FFN model"
   ]
  },
  {
   "cell_type": "code",
   "execution_count": null,
   "id": "60ff86fd",
   "metadata": {
    "id": "60ff86fd"
   },
   "outputs": [],
   "source": [
    "testDataset_ffn = TensorDataset(torch.tensor(np.concatenate([params_test_select, B1_test_select, sat_test_select], axis = 1), dtype = torch.float32),\n",
    "                                torch.tensor(zspec_test_select, dtype = torch.float32))\n",
    "\n",
    "testLoader_ffn = DataLoader(testDataset_ffn)"
   ]
  },
  {
   "cell_type": "code",
   "execution_count": null,
   "id": "f10204c3",
   "metadata": {
    "id": "f10204c3"
   },
   "outputs": [],
   "source": [
    "zspec_test_ffn_output = test_ffn(fullyconn_model, testLoader_ffn)"
   ]
  },
  {
   "cell_type": "code",
   "execution_count": null,
   "id": "8081d442",
   "metadata": {
    "id": "8081d442"
   },
   "outputs": [],
   "source": [
    "specNum = 4000\n",
    "plt.plot(offsets, zspec_test_ffn_output[specNum,:], label = 'Model output')\n",
    "plt.scatter(offsets, zspec_test_select[specNum,:], label = 'Original spectrum', alpha = 0.6, c = 'orange')\n",
    "plt.plot(offsets, zspec_test_ffn_output[specNum,:] - zspec_test_select[specNum,:], label = 'Residual')\n",
    "plt.xlim([-5,5])\n",
    "plt.legend()"
   ]
  },
  {
   "cell_type": "markdown",
   "id": "4a8aba61",
   "metadata": {
    "id": "4a8aba61"
   },
   "source": [
    "### Calculate root mean squared error on test reuslts"
   ]
  },
  {
   "cell_type": "code",
   "execution_count": null,
   "id": "b2da3162",
   "metadata": {
    "id": "b2da3162"
   },
   "outputs": [],
   "source": [
    "test_recon_error = np.sqrt(np.mean((zspec_test_model_output - zspec_test_select)**2, axis = 0))\n",
    "test_recon_error = np.mean(test_recon_error)\n",
    "print(test_recon_error)"
   ]
  },
  {
   "cell_type": "code",
   "execution_count": null,
   "id": "4e922992",
   "metadata": {
    "id": "4e922992"
   },
   "outputs": [],
   "source": [
    "ffn_test_recon_error = np.mean((zspec_test_ffn_output - zspec_test_select)**2, axis = 0)\n",
    "ffn_test_recon_error = np.mean(ffn_test_recon_error)\n",
    "print(ffn_test_recon_error)"
   ]
  }
 ],
 "metadata": {
  "accelerator": "GPU",
  "colab": {
   "gpuType": "T4",
   "provenance": []
  },
  "kernelspec": {
   "display_name": "Python 3",
   "language": "python",
   "name": "python3"
  },
  "language_info": {
   "codemirror_mode": {
    "name": "ipython",
    "version": 3
   },
   "file_extension": ".py",
   "mimetype": "text/x-python",
   "name": "python",
   "nbconvert_exporter": "python",
   "pygments_lexer": "ipython3",
   "version": "3.10.12"
  }
 },
 "nbformat": 4,
 "nbformat_minor": 5
}
